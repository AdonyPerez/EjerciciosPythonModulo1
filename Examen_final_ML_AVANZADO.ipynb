{
  "cells": [
    {
      "cell_type": "markdown",
      "metadata": {
        "id": "view-in-github",
        "colab_type": "text"
      },
      "source": [
        "<a href=\"https://colab.research.google.com/github/AdonyPerez/EjerciciosPythonModulo1/blob/main/Examen_final_ML_AVANZADO.ipynb\" target=\"_parent\"><img src=\"https://colab.research.google.com/assets/colab-badge.svg\" alt=\"Open In Colab\"/></a>"
      ]
    },
    {
      "cell_type": "code",
      "source": [
        "#Link de modulo empaquetado.\n",
        "https://drive.google.com/drive/folders/14TJtIzBctfuf-LvO3cdZmePyDGycPAyO?usp=share_link\n",
        "#Scrib para realizar pruebas en el modulo.\n",
        "https://colab.research.google.com/drive/1URADBzMZnqEJpzUcDSyEkxMWdiD29cjF?usp=sharing"
      ],
      "metadata": {
        "id": "Ld_PSRf4WpIB"
      },
      "execution_count": null,
      "outputs": []
    },
    {
      "cell_type": "code",
      "execution_count": null,
      "metadata": {
        "colab": {
          "base_uri": "https://localhost:8080/",
          "height": 74
        },
        "id": "JE9BGzJfYkaO",
        "outputId": "51122cf7-4895-4de9-82b3-674d680daeb0"
      },
      "outputs": [
        {
          "output_type": "display_data",
          "data": {
            "text/plain": [
              "<IPython.core.display.HTML object>"
            ],
            "text/html": [
              "\n",
              "     <input type=\"file\" id=\"files-66272379-fd0a-4da1-9072-56b303cb01eb\" name=\"files[]\" multiple disabled\n",
              "        style=\"border:none\" />\n",
              "     <output id=\"result-66272379-fd0a-4da1-9072-56b303cb01eb\">\n",
              "      Upload widget is only available when the cell has been executed in the\n",
              "      current browser session. Please rerun this cell to enable.\n",
              "      </output>\n",
              "      <script>// Copyright 2017 Google LLC\n",
              "//\n",
              "// Licensed under the Apache License, Version 2.0 (the \"License\");\n",
              "// you may not use this file except in compliance with the License.\n",
              "// You may obtain a copy of the License at\n",
              "//\n",
              "//      http://www.apache.org/licenses/LICENSE-2.0\n",
              "//\n",
              "// Unless required by applicable law or agreed to in writing, software\n",
              "// distributed under the License is distributed on an \"AS IS\" BASIS,\n",
              "// WITHOUT WARRANTIES OR CONDITIONS OF ANY KIND, either express or implied.\n",
              "// See the License for the specific language governing permissions and\n",
              "// limitations under the License.\n",
              "\n",
              "/**\n",
              " * @fileoverview Helpers for google.colab Python module.\n",
              " */\n",
              "(function(scope) {\n",
              "function span(text, styleAttributes = {}) {\n",
              "  const element = document.createElement('span');\n",
              "  element.textContent = text;\n",
              "  for (const key of Object.keys(styleAttributes)) {\n",
              "    element.style[key] = styleAttributes[key];\n",
              "  }\n",
              "  return element;\n",
              "}\n",
              "\n",
              "// Max number of bytes which will be uploaded at a time.\n",
              "const MAX_PAYLOAD_SIZE = 100 * 1024;\n",
              "\n",
              "function _uploadFiles(inputId, outputId) {\n",
              "  const steps = uploadFilesStep(inputId, outputId);\n",
              "  const outputElement = document.getElementById(outputId);\n",
              "  // Cache steps on the outputElement to make it available for the next call\n",
              "  // to uploadFilesContinue from Python.\n",
              "  outputElement.steps = steps;\n",
              "\n",
              "  return _uploadFilesContinue(outputId);\n",
              "}\n",
              "\n",
              "// This is roughly an async generator (not supported in the browser yet),\n",
              "// where there are multiple asynchronous steps and the Python side is going\n",
              "// to poll for completion of each step.\n",
              "// This uses a Promise to block the python side on completion of each step,\n",
              "// then passes the result of the previous step as the input to the next step.\n",
              "function _uploadFilesContinue(outputId) {\n",
              "  const outputElement = document.getElementById(outputId);\n",
              "  const steps = outputElement.steps;\n",
              "\n",
              "  const next = steps.next(outputElement.lastPromiseValue);\n",
              "  return Promise.resolve(next.value.promise).then((value) => {\n",
              "    // Cache the last promise value to make it available to the next\n",
              "    // step of the generator.\n",
              "    outputElement.lastPromiseValue = value;\n",
              "    return next.value.response;\n",
              "  });\n",
              "}\n",
              "\n",
              "/**\n",
              " * Generator function which is called between each async step of the upload\n",
              " * process.\n",
              " * @param {string} inputId Element ID of the input file picker element.\n",
              " * @param {string} outputId Element ID of the output display.\n",
              " * @return {!Iterable<!Object>} Iterable of next steps.\n",
              " */\n",
              "function* uploadFilesStep(inputId, outputId) {\n",
              "  const inputElement = document.getElementById(inputId);\n",
              "  inputElement.disabled = false;\n",
              "\n",
              "  const outputElement = document.getElementById(outputId);\n",
              "  outputElement.innerHTML = '';\n",
              "\n",
              "  const pickedPromise = new Promise((resolve) => {\n",
              "    inputElement.addEventListener('change', (e) => {\n",
              "      resolve(e.target.files);\n",
              "    });\n",
              "  });\n",
              "\n",
              "  const cancel = document.createElement('button');\n",
              "  inputElement.parentElement.appendChild(cancel);\n",
              "  cancel.textContent = 'Cancel upload';\n",
              "  const cancelPromise = new Promise((resolve) => {\n",
              "    cancel.onclick = () => {\n",
              "      resolve(null);\n",
              "    };\n",
              "  });\n",
              "\n",
              "  // Wait for the user to pick the files.\n",
              "  const files = yield {\n",
              "    promise: Promise.race([pickedPromise, cancelPromise]),\n",
              "    response: {\n",
              "      action: 'starting',\n",
              "    }\n",
              "  };\n",
              "\n",
              "  cancel.remove();\n",
              "\n",
              "  // Disable the input element since further picks are not allowed.\n",
              "  inputElement.disabled = true;\n",
              "\n",
              "  if (!files) {\n",
              "    return {\n",
              "      response: {\n",
              "        action: 'complete',\n",
              "      }\n",
              "    };\n",
              "  }\n",
              "\n",
              "  for (const file of files) {\n",
              "    const li = document.createElement('li');\n",
              "    li.append(span(file.name, {fontWeight: 'bold'}));\n",
              "    li.append(span(\n",
              "        `(${file.type || 'n/a'}) - ${file.size} bytes, ` +\n",
              "        `last modified: ${\n",
              "            file.lastModifiedDate ? file.lastModifiedDate.toLocaleDateString() :\n",
              "                                    'n/a'} - `));\n",
              "    const percent = span('0% done');\n",
              "    li.appendChild(percent);\n",
              "\n",
              "    outputElement.appendChild(li);\n",
              "\n",
              "    const fileDataPromise = new Promise((resolve) => {\n",
              "      const reader = new FileReader();\n",
              "      reader.onload = (e) => {\n",
              "        resolve(e.target.result);\n",
              "      };\n",
              "      reader.readAsArrayBuffer(file);\n",
              "    });\n",
              "    // Wait for the data to be ready.\n",
              "    let fileData = yield {\n",
              "      promise: fileDataPromise,\n",
              "      response: {\n",
              "        action: 'continue',\n",
              "      }\n",
              "    };\n",
              "\n",
              "    // Use a chunked sending to avoid message size limits. See b/62115660.\n",
              "    let position = 0;\n",
              "    do {\n",
              "      const length = Math.min(fileData.byteLength - position, MAX_PAYLOAD_SIZE);\n",
              "      const chunk = new Uint8Array(fileData, position, length);\n",
              "      position += length;\n",
              "\n",
              "      const base64 = btoa(String.fromCharCode.apply(null, chunk));\n",
              "      yield {\n",
              "        response: {\n",
              "          action: 'append',\n",
              "          file: file.name,\n",
              "          data: base64,\n",
              "        },\n",
              "      };\n",
              "\n",
              "      let percentDone = fileData.byteLength === 0 ?\n",
              "          100 :\n",
              "          Math.round((position / fileData.byteLength) * 100);\n",
              "      percent.textContent = `${percentDone}% done`;\n",
              "\n",
              "    } while (position < fileData.byteLength);\n",
              "  }\n",
              "\n",
              "  // All done.\n",
              "  yield {\n",
              "    response: {\n",
              "      action: 'complete',\n",
              "    }\n",
              "  };\n",
              "}\n",
              "\n",
              "scope.google = scope.google || {};\n",
              "scope.google.colab = scope.google.colab || {};\n",
              "scope.google.colab._files = {\n",
              "  _uploadFiles,\n",
              "  _uploadFilesContinue,\n",
              "};\n",
              "})(self);\n",
              "</script> "
            ]
          },
          "metadata": {}
        },
        {
          "output_type": "stream",
          "name": "stdout",
          "text": [
            "Saving OnlineRetail1.xlsx to OnlineRetail1.xlsx\n"
          ]
        }
      ],
      "source": [
        "#Cargamos modulo.\n",
        "from google.colab import files\n",
        "files.upload()"
      ]
    },
    {
      "cell_type": "code",
      "execution_count": null,
      "metadata": {
        "id": "r2DQsytnYl9C"
      },
      "outputs": [],
      "source": [
        "#Convertimos el modulo en dataframe.\n",
        "import pandas as pd \n",
        "df = pd.read_excel(\"OnlineRetail1.xlsx\")"
      ]
    },
    {
      "cell_type": "code",
      "source": [
        "#Se corrio con los datos correctos, al momento de realizar una regresion lineal es imposible, se utilizo Spyder, kaggle online, \n",
        "#jupyter lab y se toma la desicion de trabajar solo con el 20% de los datos. \n",
        "df = df.sample(frac=0.20)"
      ],
      "metadata": {
        "id": "bjN0kgOlCfYz"
      },
      "execution_count": null,
      "outputs": []
    },
    {
      "cell_type": "code",
      "execution_count": null,
      "metadata": {
        "id": "XEeY6dVqYl6G"
      },
      "outputs": [],
      "source": [
        "#Cargamos modulos para el procesamiento.\n",
        "import numpy as np\n",
        "import seaborn as sns\n",
        "import matplotlib.pyplot as plt\n",
        "import re\n",
        "import warnings\n",
        "warnings.filterwarnings('ignore')\n",
        "sns.set(style=\"darkgrid\")\n",
        "%matplotlib inline"
      ]
    },
    {
      "cell_type": "markdown",
      "metadata": {
        "id": "eNNxZdvvLIEI"
      },
      "source": [
        "#Preprocesamiento."
      ]
    },
    {
      "cell_type": "code",
      "execution_count": null,
      "metadata": {
        "id": "Vg3SdfThYl3I",
        "colab": {
          "base_uri": "https://localhost:8080/",
          "height": 206
        },
        "outputId": "5b14cfa5-6438-4198-df77-61fc28d24991"
      },
      "outputs": [
        {
          "output_type": "execute_result",
          "data": {
            "text/plain": [
              "       InvoiceNo StockCode                        Description  Quantity  \\\n",
              "215110    555647     22699   ROSES REGENCY TEACUP AND SAUCER          6   \n",
              "323388    565295     23189             SET OF 12 FORK CANDLES         6   \n",
              "37521     539469    84997D  PINK 3 PIECE POLKADOT CUTLERY SET         1   \n",
              "151819    549569     84978   HANGING HEART JAR T-LIGHT HOLDER         6   \n",
              "111031    545710     22254               FELT TOADSTOOL LARGE        12   \n",
              "\n",
              "               InvoiceDate  UnitPrice  CustomerID         Country  \n",
              "215110 2011-06-06 13:43:00       2.95     12957.0  United Kingdom  \n",
              "323388 2011-09-02 12:01:00       2.89     12794.0        Portugal  \n",
              "37521  2010-12-19 13:59:00       3.75     17841.0  United Kingdom  \n",
              "151819 2011-04-10 15:15:00       1.25     15547.0  United Kingdom  \n",
              "111031 2011-03-07 09:52:00       1.25     13117.0  United Kingdom  "
            ],
            "text/html": [
              "\n",
              "  <div id=\"df-86329734-7f4f-4474-96d4-33eb29d49876\">\n",
              "    <div class=\"colab-df-container\">\n",
              "      <div>\n",
              "<style scoped>\n",
              "    .dataframe tbody tr th:only-of-type {\n",
              "        vertical-align: middle;\n",
              "    }\n",
              "\n",
              "    .dataframe tbody tr th {\n",
              "        vertical-align: top;\n",
              "    }\n",
              "\n",
              "    .dataframe thead th {\n",
              "        text-align: right;\n",
              "    }\n",
              "</style>\n",
              "<table border=\"1\" class=\"dataframe\">\n",
              "  <thead>\n",
              "    <tr style=\"text-align: right;\">\n",
              "      <th></th>\n",
              "      <th>InvoiceNo</th>\n",
              "      <th>StockCode</th>\n",
              "      <th>Description</th>\n",
              "      <th>Quantity</th>\n",
              "      <th>InvoiceDate</th>\n",
              "      <th>UnitPrice</th>\n",
              "      <th>CustomerID</th>\n",
              "      <th>Country</th>\n",
              "    </tr>\n",
              "  </thead>\n",
              "  <tbody>\n",
              "    <tr>\n",
              "      <th>215110</th>\n",
              "      <td>555647</td>\n",
              "      <td>22699</td>\n",
              "      <td>ROSES REGENCY TEACUP AND SAUCER</td>\n",
              "      <td>6</td>\n",
              "      <td>2011-06-06 13:43:00</td>\n",
              "      <td>2.95</td>\n",
              "      <td>12957.0</td>\n",
              "      <td>United Kingdom</td>\n",
              "    </tr>\n",
              "    <tr>\n",
              "      <th>323388</th>\n",
              "      <td>565295</td>\n",
              "      <td>23189</td>\n",
              "      <td>SET OF 12 FORK CANDLES</td>\n",
              "      <td>6</td>\n",
              "      <td>2011-09-02 12:01:00</td>\n",
              "      <td>2.89</td>\n",
              "      <td>12794.0</td>\n",
              "      <td>Portugal</td>\n",
              "    </tr>\n",
              "    <tr>\n",
              "      <th>37521</th>\n",
              "      <td>539469</td>\n",
              "      <td>84997D</td>\n",
              "      <td>PINK 3 PIECE POLKADOT CUTLERY SET</td>\n",
              "      <td>1</td>\n",
              "      <td>2010-12-19 13:59:00</td>\n",
              "      <td>3.75</td>\n",
              "      <td>17841.0</td>\n",
              "      <td>United Kingdom</td>\n",
              "    </tr>\n",
              "    <tr>\n",
              "      <th>151819</th>\n",
              "      <td>549569</td>\n",
              "      <td>84978</td>\n",
              "      <td>HANGING HEART JAR T-LIGHT HOLDER</td>\n",
              "      <td>6</td>\n",
              "      <td>2011-04-10 15:15:00</td>\n",
              "      <td>1.25</td>\n",
              "      <td>15547.0</td>\n",
              "      <td>United Kingdom</td>\n",
              "    </tr>\n",
              "    <tr>\n",
              "      <th>111031</th>\n",
              "      <td>545710</td>\n",
              "      <td>22254</td>\n",
              "      <td>FELT TOADSTOOL LARGE</td>\n",
              "      <td>12</td>\n",
              "      <td>2011-03-07 09:52:00</td>\n",
              "      <td>1.25</td>\n",
              "      <td>13117.0</td>\n",
              "      <td>United Kingdom</td>\n",
              "    </tr>\n",
              "  </tbody>\n",
              "</table>\n",
              "</div>\n",
              "      <button class=\"colab-df-convert\" onclick=\"convertToInteractive('df-86329734-7f4f-4474-96d4-33eb29d49876')\"\n",
              "              title=\"Convert this dataframe to an interactive table.\"\n",
              "              style=\"display:none;\">\n",
              "        \n",
              "  <svg xmlns=\"http://www.w3.org/2000/svg\" height=\"24px\"viewBox=\"0 0 24 24\"\n",
              "       width=\"24px\">\n",
              "    <path d=\"M0 0h24v24H0V0z\" fill=\"none\"/>\n",
              "    <path d=\"M18.56 5.44l.94 2.06.94-2.06 2.06-.94-2.06-.94-.94-2.06-.94 2.06-2.06.94zm-11 1L8.5 8.5l.94-2.06 2.06-.94-2.06-.94L8.5 2.5l-.94 2.06-2.06.94zm10 10l.94 2.06.94-2.06 2.06-.94-2.06-.94-.94-2.06-.94 2.06-2.06.94z\"/><path d=\"M17.41 7.96l-1.37-1.37c-.4-.4-.92-.59-1.43-.59-.52 0-1.04.2-1.43.59L10.3 9.45l-7.72 7.72c-.78.78-.78 2.05 0 2.83L4 21.41c.39.39.9.59 1.41.59.51 0 1.02-.2 1.41-.59l7.78-7.78 2.81-2.81c.8-.78.8-2.07 0-2.86zM5.41 20L4 18.59l7.72-7.72 1.47 1.35L5.41 20z\"/>\n",
              "  </svg>\n",
              "      </button>\n",
              "      \n",
              "  <style>\n",
              "    .colab-df-container {\n",
              "      display:flex;\n",
              "      flex-wrap:wrap;\n",
              "      gap: 12px;\n",
              "    }\n",
              "\n",
              "    .colab-df-convert {\n",
              "      background-color: #E8F0FE;\n",
              "      border: none;\n",
              "      border-radius: 50%;\n",
              "      cursor: pointer;\n",
              "      display: none;\n",
              "      fill: #1967D2;\n",
              "      height: 32px;\n",
              "      padding: 0 0 0 0;\n",
              "      width: 32px;\n",
              "    }\n",
              "\n",
              "    .colab-df-convert:hover {\n",
              "      background-color: #E2EBFA;\n",
              "      box-shadow: 0px 1px 2px rgba(60, 64, 67, 0.3), 0px 1px 3px 1px rgba(60, 64, 67, 0.15);\n",
              "      fill: #174EA6;\n",
              "    }\n",
              "\n",
              "    [theme=dark] .colab-df-convert {\n",
              "      background-color: #3B4455;\n",
              "      fill: #D2E3FC;\n",
              "    }\n",
              "\n",
              "    [theme=dark] .colab-df-convert:hover {\n",
              "      background-color: #434B5C;\n",
              "      box-shadow: 0px 1px 3px 1px rgba(0, 0, 0, 0.15);\n",
              "      filter: drop-shadow(0px 1px 2px rgba(0, 0, 0, 0.3));\n",
              "      fill: #FFFFFF;\n",
              "    }\n",
              "  </style>\n",
              "\n",
              "      <script>\n",
              "        const buttonEl =\n",
              "          document.querySelector('#df-86329734-7f4f-4474-96d4-33eb29d49876 button.colab-df-convert');\n",
              "        buttonEl.style.display =\n",
              "          google.colab.kernel.accessAllowed ? 'block' : 'none';\n",
              "\n",
              "        async function convertToInteractive(key) {\n",
              "          const element = document.querySelector('#df-86329734-7f4f-4474-96d4-33eb29d49876');\n",
              "          const dataTable =\n",
              "            await google.colab.kernel.invokeFunction('convertToInteractive',\n",
              "                                                     [key], {});\n",
              "          if (!dataTable) return;\n",
              "\n",
              "          const docLinkHtml = 'Like what you see? Visit the ' +\n",
              "            '<a target=\"_blank\" href=https://colab.research.google.com/notebooks/data_table.ipynb>data table notebook</a>'\n",
              "            + ' to learn more about interactive tables.';\n",
              "          element.innerHTML = '';\n",
              "          dataTable['output_type'] = 'display_data';\n",
              "          await google.colab.output.renderOutput(dataTable, element);\n",
              "          const docLink = document.createElement('div');\n",
              "          docLink.innerHTML = docLinkHtml;\n",
              "          element.appendChild(docLink);\n",
              "        }\n",
              "      </script>\n",
              "    </div>\n",
              "  </div>\n",
              "  "
            ]
          },
          "metadata": {},
          "execution_count": 5
        }
      ],
      "source": [
        "#Visualizamos los primeros datos del dataset.\n",
        "df.head()"
      ]
    },
    {
      "cell_type": "code",
      "execution_count": null,
      "metadata": {
        "id": "s0SMH1HKYl0d",
        "colab": {
          "base_uri": "https://localhost:8080/"
        },
        "outputId": "00f9a0e6-f652-4361-996d-7078ec5d3a9e"
      },
      "outputs": [
        {
          "output_type": "stream",
          "name": "stdout",
          "text": [
            "El numero de filas:  108382\n",
            "El numero de columnas:  8\n"
          ]
        }
      ],
      "source": [
        "#Se imprime los valores de cada columna para saber la cantidad\n",
        "print(\"El numero de filas: \", df.shape[0])\n",
        "print(\"El numero de columnas: \", df.shape[1])"
      ]
    },
    {
      "cell_type": "code",
      "execution_count": null,
      "metadata": {
        "id": "OtKG3d8qYlx-",
        "colab": {
          "base_uri": "https://localhost:8080/"
        },
        "outputId": "62789c2a-6fc4-440a-8b48-e607c64cc31b"
      },
      "outputs": [
        {
          "output_type": "stream",
          "name": "stdout",
          "text": [
            "<class 'pandas.core.frame.DataFrame'>\n",
            "Int64Index: 108382 entries, 215110 to 450401\n",
            "Data columns (total 8 columns):\n",
            " #   Column       Non-Null Count   Dtype         \n",
            "---  ------       --------------   -----         \n",
            " 0   InvoiceNo    108382 non-null  object        \n",
            " 1   StockCode    108382 non-null  object        \n",
            " 2   Description  108077 non-null  object        \n",
            " 3   Quantity     108382 non-null  int64         \n",
            " 4   InvoiceDate  108382 non-null  datetime64[ns]\n",
            " 5   UnitPrice    108382 non-null  float64       \n",
            " 6   CustomerID   81372 non-null   float64       \n",
            " 7   Country      108382 non-null  object        \n",
            "dtypes: datetime64[ns](1), float64(2), int64(1), object(4)\n",
            "memory usage: 7.4+ MB\n"
          ]
        }
      ],
      "source": [
        "#Veamos el tipo de Dtypr que hay en las columnas.\n",
        "df.info()"
      ]
    },
    {
      "cell_type": "code",
      "execution_count": null,
      "metadata": {
        "id": "trAs58rPYlvQ",
        "colab": {
          "base_uri": "https://localhost:8080/"
        },
        "outputId": "9874225b-4caf-4507-954a-4588ad40abb4"
      },
      "outputs": [
        {
          "output_type": "stream",
          "name": "stdout",
          "text": [
            "IDs y sus valores unicos: 4111\n"
          ]
        }
      ],
      "source": [
        "#Se eliminara los IDs faltantes de CustomerID \n",
        "print(\"IDs y sus valores unicos:\", len(df['CustomerID'].unique().tolist()))"
      ]
    },
    {
      "cell_type": "code",
      "execution_count": null,
      "metadata": {
        "id": "QKWhH3v0Yls0",
        "colab": {
          "base_uri": "https://localhost:8080/",
          "height": 300
        },
        "outputId": "635e9046-2987-4b62-f04b-29169891a7d6"
      },
      "outputs": [
        {
          "output_type": "execute_result",
          "data": {
            "text/plain": [
              "            Quantity      UnitPrice    CustomerID\n",
              "count  108382.000000  108382.000000  81372.000000\n",
              "mean       10.370209       4.996171  15273.774480\n",
              "std       407.697100     133.218066   1715.847948\n",
              "min    -74215.000000       0.000000  12346.000000\n",
              "25%         1.000000       1.250000  13894.750000\n",
              "50%         3.000000       2.080000  15144.000000\n",
              "75%        10.000000       4.130000  16778.000000\n",
              "max     80995.000000   38970.000000  18287.000000"
            ],
            "text/html": [
              "\n",
              "  <div id=\"df-15860b45-eae9-48b2-9dee-c5780c79b38e\">\n",
              "    <div class=\"colab-df-container\">\n",
              "      <div>\n",
              "<style scoped>\n",
              "    .dataframe tbody tr th:only-of-type {\n",
              "        vertical-align: middle;\n",
              "    }\n",
              "\n",
              "    .dataframe tbody tr th {\n",
              "        vertical-align: top;\n",
              "    }\n",
              "\n",
              "    .dataframe thead th {\n",
              "        text-align: right;\n",
              "    }\n",
              "</style>\n",
              "<table border=\"1\" class=\"dataframe\">\n",
              "  <thead>\n",
              "    <tr style=\"text-align: right;\">\n",
              "      <th></th>\n",
              "      <th>Quantity</th>\n",
              "      <th>UnitPrice</th>\n",
              "      <th>CustomerID</th>\n",
              "    </tr>\n",
              "  </thead>\n",
              "  <tbody>\n",
              "    <tr>\n",
              "      <th>count</th>\n",
              "      <td>108382.000000</td>\n",
              "      <td>108382.000000</td>\n",
              "      <td>81372.000000</td>\n",
              "    </tr>\n",
              "    <tr>\n",
              "      <th>mean</th>\n",
              "      <td>10.370209</td>\n",
              "      <td>4.996171</td>\n",
              "      <td>15273.774480</td>\n",
              "    </tr>\n",
              "    <tr>\n",
              "      <th>std</th>\n",
              "      <td>407.697100</td>\n",
              "      <td>133.218066</td>\n",
              "      <td>1715.847948</td>\n",
              "    </tr>\n",
              "    <tr>\n",
              "      <th>min</th>\n",
              "      <td>-74215.000000</td>\n",
              "      <td>0.000000</td>\n",
              "      <td>12346.000000</td>\n",
              "    </tr>\n",
              "    <tr>\n",
              "      <th>25%</th>\n",
              "      <td>1.000000</td>\n",
              "      <td>1.250000</td>\n",
              "      <td>13894.750000</td>\n",
              "    </tr>\n",
              "    <tr>\n",
              "      <th>50%</th>\n",
              "      <td>3.000000</td>\n",
              "      <td>2.080000</td>\n",
              "      <td>15144.000000</td>\n",
              "    </tr>\n",
              "    <tr>\n",
              "      <th>75%</th>\n",
              "      <td>10.000000</td>\n",
              "      <td>4.130000</td>\n",
              "      <td>16778.000000</td>\n",
              "    </tr>\n",
              "    <tr>\n",
              "      <th>max</th>\n",
              "      <td>80995.000000</td>\n",
              "      <td>38970.000000</td>\n",
              "      <td>18287.000000</td>\n",
              "    </tr>\n",
              "  </tbody>\n",
              "</table>\n",
              "</div>\n",
              "      <button class=\"colab-df-convert\" onclick=\"convertToInteractive('df-15860b45-eae9-48b2-9dee-c5780c79b38e')\"\n",
              "              title=\"Convert this dataframe to an interactive table.\"\n",
              "              style=\"display:none;\">\n",
              "        \n",
              "  <svg xmlns=\"http://www.w3.org/2000/svg\" height=\"24px\"viewBox=\"0 0 24 24\"\n",
              "       width=\"24px\">\n",
              "    <path d=\"M0 0h24v24H0V0z\" fill=\"none\"/>\n",
              "    <path d=\"M18.56 5.44l.94 2.06.94-2.06 2.06-.94-2.06-.94-.94-2.06-.94 2.06-2.06.94zm-11 1L8.5 8.5l.94-2.06 2.06-.94-2.06-.94L8.5 2.5l-.94 2.06-2.06.94zm10 10l.94 2.06.94-2.06 2.06-.94-2.06-.94-.94-2.06-.94 2.06-2.06.94z\"/><path d=\"M17.41 7.96l-1.37-1.37c-.4-.4-.92-.59-1.43-.59-.52 0-1.04.2-1.43.59L10.3 9.45l-7.72 7.72c-.78.78-.78 2.05 0 2.83L4 21.41c.39.39.9.59 1.41.59.51 0 1.02-.2 1.41-.59l7.78-7.78 2.81-2.81c.8-.78.8-2.07 0-2.86zM5.41 20L4 18.59l7.72-7.72 1.47 1.35L5.41 20z\"/>\n",
              "  </svg>\n",
              "      </button>\n",
              "      \n",
              "  <style>\n",
              "    .colab-df-container {\n",
              "      display:flex;\n",
              "      flex-wrap:wrap;\n",
              "      gap: 12px;\n",
              "    }\n",
              "\n",
              "    .colab-df-convert {\n",
              "      background-color: #E8F0FE;\n",
              "      border: none;\n",
              "      border-radius: 50%;\n",
              "      cursor: pointer;\n",
              "      display: none;\n",
              "      fill: #1967D2;\n",
              "      height: 32px;\n",
              "      padding: 0 0 0 0;\n",
              "      width: 32px;\n",
              "    }\n",
              "\n",
              "    .colab-df-convert:hover {\n",
              "      background-color: #E2EBFA;\n",
              "      box-shadow: 0px 1px 2px rgba(60, 64, 67, 0.3), 0px 1px 3px 1px rgba(60, 64, 67, 0.15);\n",
              "      fill: #174EA6;\n",
              "    }\n",
              "\n",
              "    [theme=dark] .colab-df-convert {\n",
              "      background-color: #3B4455;\n",
              "      fill: #D2E3FC;\n",
              "    }\n",
              "\n",
              "    [theme=dark] .colab-df-convert:hover {\n",
              "      background-color: #434B5C;\n",
              "      box-shadow: 0px 1px 3px 1px rgba(0, 0, 0, 0.15);\n",
              "      filter: drop-shadow(0px 1px 2px rgba(0, 0, 0, 0.3));\n",
              "      fill: #FFFFFF;\n",
              "    }\n",
              "  </style>\n",
              "\n",
              "      <script>\n",
              "        const buttonEl =\n",
              "          document.querySelector('#df-15860b45-eae9-48b2-9dee-c5780c79b38e button.colab-df-convert');\n",
              "        buttonEl.style.display =\n",
              "          google.colab.kernel.accessAllowed ? 'block' : 'none';\n",
              "\n",
              "        async function convertToInteractive(key) {\n",
              "          const element = document.querySelector('#df-15860b45-eae9-48b2-9dee-c5780c79b38e');\n",
              "          const dataTable =\n",
              "            await google.colab.kernel.invokeFunction('convertToInteractive',\n",
              "                                                     [key], {});\n",
              "          if (!dataTable) return;\n",
              "\n",
              "          const docLinkHtml = 'Like what you see? Visit the ' +\n",
              "            '<a target=\"_blank\" href=https://colab.research.google.com/notebooks/data_table.ipynb>data table notebook</a>'\n",
              "            + ' to learn more about interactive tables.';\n",
              "          element.innerHTML = '';\n",
              "          dataTable['output_type'] = 'display_data';\n",
              "          await google.colab.output.renderOutput(dataTable, element);\n",
              "          const docLink = document.createElement('div');\n",
              "          docLink.innerHTML = docLinkHtml;\n",
              "          element.appendChild(docLink);\n",
              "        }\n",
              "      </script>\n",
              "    </div>\n",
              "  </div>\n",
              "  "
            ]
          },
          "metadata": {},
          "execution_count": 9
        }
      ],
      "source": [
        "df.describe()"
      ]
    },
    {
      "cell_type": "code",
      "execution_count": null,
      "metadata": {
        "id": "44opDRtDYlqS",
        "colab": {
          "base_uri": "https://localhost:8080/",
          "height": 206
        },
        "outputId": "249b8f09-2477-4a6a-cddf-6c8315b94bd0"
      },
      "outputs": [
        {
          "output_type": "execute_result",
          "data": {
            "text/plain": [
              "       InvoiceNo StockCode                       Description  Quantity  \\\n",
              "161762   C550485     21232    STRAWBERRY CERAMIC TRINKET BOX        -4   \n",
              "411009   C572187      POST                           POSTAGE        -1   \n",
              "146113   C548972    84279P  CHERRY BLOSSOM  DECORATIVE FLASK        -4   \n",
              "341323   C566751     22197                    POPCORN HOLDER        -4   \n",
              "87145    C543633     22776       SWEETHEART CAKESTAND 3 TIER        -5   \n",
              "\n",
              "               InvoiceDate  UnitPrice  CustomerID         Country  \n",
              "161762 2011-04-18 14:15:00       1.25     13317.0  United Kingdom  \n",
              "411009 2011-10-21 11:00:00      18.00     12403.0         Denmark  \n",
              "146113 2011-04-05 11:42:00       3.75     15674.0  United Kingdom  \n",
              "341323 2011-09-14 15:42:00       0.85     14911.0            EIRE  \n",
              "87145  2011-02-10 16:24:00       9.95     17188.0  United Kingdom  "
            ],
            "text/html": [
              "\n",
              "  <div id=\"df-76901ef2-3c29-488b-b027-8ef45b3b7cb2\">\n",
              "    <div class=\"colab-df-container\">\n",
              "      <div>\n",
              "<style scoped>\n",
              "    .dataframe tbody tr th:only-of-type {\n",
              "        vertical-align: middle;\n",
              "    }\n",
              "\n",
              "    .dataframe tbody tr th {\n",
              "        vertical-align: top;\n",
              "    }\n",
              "\n",
              "    .dataframe thead th {\n",
              "        text-align: right;\n",
              "    }\n",
              "</style>\n",
              "<table border=\"1\" class=\"dataframe\">\n",
              "  <thead>\n",
              "    <tr style=\"text-align: right;\">\n",
              "      <th></th>\n",
              "      <th>InvoiceNo</th>\n",
              "      <th>StockCode</th>\n",
              "      <th>Description</th>\n",
              "      <th>Quantity</th>\n",
              "      <th>InvoiceDate</th>\n",
              "      <th>UnitPrice</th>\n",
              "      <th>CustomerID</th>\n",
              "      <th>Country</th>\n",
              "    </tr>\n",
              "  </thead>\n",
              "  <tbody>\n",
              "    <tr>\n",
              "      <th>161762</th>\n",
              "      <td>C550485</td>\n",
              "      <td>21232</td>\n",
              "      <td>STRAWBERRY CERAMIC TRINKET BOX</td>\n",
              "      <td>-4</td>\n",
              "      <td>2011-04-18 14:15:00</td>\n",
              "      <td>1.25</td>\n",
              "      <td>13317.0</td>\n",
              "      <td>United Kingdom</td>\n",
              "    </tr>\n",
              "    <tr>\n",
              "      <th>411009</th>\n",
              "      <td>C572187</td>\n",
              "      <td>POST</td>\n",
              "      <td>POSTAGE</td>\n",
              "      <td>-1</td>\n",
              "      <td>2011-10-21 11:00:00</td>\n",
              "      <td>18.00</td>\n",
              "      <td>12403.0</td>\n",
              "      <td>Denmark</td>\n",
              "    </tr>\n",
              "    <tr>\n",
              "      <th>146113</th>\n",
              "      <td>C548972</td>\n",
              "      <td>84279P</td>\n",
              "      <td>CHERRY BLOSSOM  DECORATIVE FLASK</td>\n",
              "      <td>-4</td>\n",
              "      <td>2011-04-05 11:42:00</td>\n",
              "      <td>3.75</td>\n",
              "      <td>15674.0</td>\n",
              "      <td>United Kingdom</td>\n",
              "    </tr>\n",
              "    <tr>\n",
              "      <th>341323</th>\n",
              "      <td>C566751</td>\n",
              "      <td>22197</td>\n",
              "      <td>POPCORN HOLDER</td>\n",
              "      <td>-4</td>\n",
              "      <td>2011-09-14 15:42:00</td>\n",
              "      <td>0.85</td>\n",
              "      <td>14911.0</td>\n",
              "      <td>EIRE</td>\n",
              "    </tr>\n",
              "    <tr>\n",
              "      <th>87145</th>\n",
              "      <td>C543633</td>\n",
              "      <td>22776</td>\n",
              "      <td>SWEETHEART CAKESTAND 3 TIER</td>\n",
              "      <td>-5</td>\n",
              "      <td>2011-02-10 16:24:00</td>\n",
              "      <td>9.95</td>\n",
              "      <td>17188.0</td>\n",
              "      <td>United Kingdom</td>\n",
              "    </tr>\n",
              "  </tbody>\n",
              "</table>\n",
              "</div>\n",
              "      <button class=\"colab-df-convert\" onclick=\"convertToInteractive('df-76901ef2-3c29-488b-b027-8ef45b3b7cb2')\"\n",
              "              title=\"Convert this dataframe to an interactive table.\"\n",
              "              style=\"display:none;\">\n",
              "        \n",
              "  <svg xmlns=\"http://www.w3.org/2000/svg\" height=\"24px\"viewBox=\"0 0 24 24\"\n",
              "       width=\"24px\">\n",
              "    <path d=\"M0 0h24v24H0V0z\" fill=\"none\"/>\n",
              "    <path d=\"M18.56 5.44l.94 2.06.94-2.06 2.06-.94-2.06-.94-.94-2.06-.94 2.06-2.06.94zm-11 1L8.5 8.5l.94-2.06 2.06-.94-2.06-.94L8.5 2.5l-.94 2.06-2.06.94zm10 10l.94 2.06.94-2.06 2.06-.94-2.06-.94-.94-2.06-.94 2.06-2.06.94z\"/><path d=\"M17.41 7.96l-1.37-1.37c-.4-.4-.92-.59-1.43-.59-.52 0-1.04.2-1.43.59L10.3 9.45l-7.72 7.72c-.78.78-.78 2.05 0 2.83L4 21.41c.39.39.9.59 1.41.59.51 0 1.02-.2 1.41-.59l7.78-7.78 2.81-2.81c.8-.78.8-2.07 0-2.86zM5.41 20L4 18.59l7.72-7.72 1.47 1.35L5.41 20z\"/>\n",
              "  </svg>\n",
              "      </button>\n",
              "      \n",
              "  <style>\n",
              "    .colab-df-container {\n",
              "      display:flex;\n",
              "      flex-wrap:wrap;\n",
              "      gap: 12px;\n",
              "    }\n",
              "\n",
              "    .colab-df-convert {\n",
              "      background-color: #E8F0FE;\n",
              "      border: none;\n",
              "      border-radius: 50%;\n",
              "      cursor: pointer;\n",
              "      display: none;\n",
              "      fill: #1967D2;\n",
              "      height: 32px;\n",
              "      padding: 0 0 0 0;\n",
              "      width: 32px;\n",
              "    }\n",
              "\n",
              "    .colab-df-convert:hover {\n",
              "      background-color: #E2EBFA;\n",
              "      box-shadow: 0px 1px 2px rgba(60, 64, 67, 0.3), 0px 1px 3px 1px rgba(60, 64, 67, 0.15);\n",
              "      fill: #174EA6;\n",
              "    }\n",
              "\n",
              "    [theme=dark] .colab-df-convert {\n",
              "      background-color: #3B4455;\n",
              "      fill: #D2E3FC;\n",
              "    }\n",
              "\n",
              "    [theme=dark] .colab-df-convert:hover {\n",
              "      background-color: #434B5C;\n",
              "      box-shadow: 0px 1px 3px 1px rgba(0, 0, 0, 0.15);\n",
              "      filter: drop-shadow(0px 1px 2px rgba(0, 0, 0, 0.3));\n",
              "      fill: #FFFFFF;\n",
              "    }\n",
              "  </style>\n",
              "\n",
              "      <script>\n",
              "        const buttonEl =\n",
              "          document.querySelector('#df-76901ef2-3c29-488b-b027-8ef45b3b7cb2 button.colab-df-convert');\n",
              "        buttonEl.style.display =\n",
              "          google.colab.kernel.accessAllowed ? 'block' : 'none';\n",
              "\n",
              "        async function convertToInteractive(key) {\n",
              "          const element = document.querySelector('#df-76901ef2-3c29-488b-b027-8ef45b3b7cb2');\n",
              "          const dataTable =\n",
              "            await google.colab.kernel.invokeFunction('convertToInteractive',\n",
              "                                                     [key], {});\n",
              "          if (!dataTable) return;\n",
              "\n",
              "          const docLinkHtml = 'Like what you see? Visit the ' +\n",
              "            '<a target=\"_blank\" href=https://colab.research.google.com/notebooks/data_table.ipynb>data table notebook</a>'\n",
              "            + ' to learn more about interactive tables.';\n",
              "          element.innerHTML = '';\n",
              "          dataTable['output_type'] = 'display_data';\n",
              "          await google.colab.output.renderOutput(dataTable, element);\n",
              "          const docLink = document.createElement('div');\n",
              "          docLink.innerHTML = docLinkHtml;\n",
              "          element.appendChild(docLink);\n",
              "        }\n",
              "      </script>\n",
              "    </div>\n",
              "  </div>\n",
              "  "
            ]
          },
          "metadata": {},
          "execution_count": 10
        }
      ],
      "source": [
        "#Se ajusta el modelo debido a que la columna posea datos diferentes a los numeros.\n",
        "#Filtramos datos\n",
        "anular = df[df['InvoiceNo'].astype(str).str.contains('C')]\n",
        "anular.head()"
      ]
    },
    {
      "cell_type": "code",
      "execution_count": null,
      "metadata": {
        "id": "UKl4wI90Ylnr",
        "colab": {
          "base_uri": "https://localhost:8080/",
          "height": 49
        },
        "outputId": "203b1257-e09d-4080-91a6-bb1116fd4052"
      },
      "outputs": [
        {
          "output_type": "execute_result",
          "data": {
            "text/plain": [
              "Empty DataFrame\n",
              "Columns: [InvoiceNo, StockCode, Description, Quantity, InvoiceDate, UnitPrice, CustomerID, Country]\n",
              "Index: []"
            ],
            "text/html": [
              "\n",
              "  <div id=\"df-b83a1e26-fcc4-449c-a579-bc617acd2ad4\">\n",
              "    <div class=\"colab-df-container\">\n",
              "      <div>\n",
              "<style scoped>\n",
              "    .dataframe tbody tr th:only-of-type {\n",
              "        vertical-align: middle;\n",
              "    }\n",
              "\n",
              "    .dataframe tbody tr th {\n",
              "        vertical-align: top;\n",
              "    }\n",
              "\n",
              "    .dataframe thead th {\n",
              "        text-align: right;\n",
              "    }\n",
              "</style>\n",
              "<table border=\"1\" class=\"dataframe\">\n",
              "  <thead>\n",
              "    <tr style=\"text-align: right;\">\n",
              "      <th></th>\n",
              "      <th>InvoiceNo</th>\n",
              "      <th>StockCode</th>\n",
              "      <th>Description</th>\n",
              "      <th>Quantity</th>\n",
              "      <th>InvoiceDate</th>\n",
              "      <th>UnitPrice</th>\n",
              "      <th>CustomerID</th>\n",
              "      <th>Country</th>\n",
              "    </tr>\n",
              "  </thead>\n",
              "  <tbody>\n",
              "  </tbody>\n",
              "</table>\n",
              "</div>\n",
              "      <button class=\"colab-df-convert\" onclick=\"convertToInteractive('df-b83a1e26-fcc4-449c-a579-bc617acd2ad4')\"\n",
              "              title=\"Convert this dataframe to an interactive table.\"\n",
              "              style=\"display:none;\">\n",
              "        \n",
              "  <svg xmlns=\"http://www.w3.org/2000/svg\" height=\"24px\"viewBox=\"0 0 24 24\"\n",
              "       width=\"24px\">\n",
              "    <path d=\"M0 0h24v24H0V0z\" fill=\"none\"/>\n",
              "    <path d=\"M18.56 5.44l.94 2.06.94-2.06 2.06-.94-2.06-.94-.94-2.06-.94 2.06-2.06.94zm-11 1L8.5 8.5l.94-2.06 2.06-.94-2.06-.94L8.5 2.5l-.94 2.06-2.06.94zm10 10l.94 2.06.94-2.06 2.06-.94-2.06-.94-.94-2.06-.94 2.06-2.06.94z\"/><path d=\"M17.41 7.96l-1.37-1.37c-.4-.4-.92-.59-1.43-.59-.52 0-1.04.2-1.43.59L10.3 9.45l-7.72 7.72c-.78.78-.78 2.05 0 2.83L4 21.41c.39.39.9.59 1.41.59.51 0 1.02-.2 1.41-.59l7.78-7.78 2.81-2.81c.8-.78.8-2.07 0-2.86zM5.41 20L4 18.59l7.72-7.72 1.47 1.35L5.41 20z\"/>\n",
              "  </svg>\n",
              "      </button>\n",
              "      \n",
              "  <style>\n",
              "    .colab-df-container {\n",
              "      display:flex;\n",
              "      flex-wrap:wrap;\n",
              "      gap: 12px;\n",
              "    }\n",
              "\n",
              "    .colab-df-convert {\n",
              "      background-color: #E8F0FE;\n",
              "      border: none;\n",
              "      border-radius: 50%;\n",
              "      cursor: pointer;\n",
              "      display: none;\n",
              "      fill: #1967D2;\n",
              "      height: 32px;\n",
              "      padding: 0 0 0 0;\n",
              "      width: 32px;\n",
              "    }\n",
              "\n",
              "    .colab-df-convert:hover {\n",
              "      background-color: #E2EBFA;\n",
              "      box-shadow: 0px 1px 2px rgba(60, 64, 67, 0.3), 0px 1px 3px 1px rgba(60, 64, 67, 0.15);\n",
              "      fill: #174EA6;\n",
              "    }\n",
              "\n",
              "    [theme=dark] .colab-df-convert {\n",
              "      background-color: #3B4455;\n",
              "      fill: #D2E3FC;\n",
              "    }\n",
              "\n",
              "    [theme=dark] .colab-df-convert:hover {\n",
              "      background-color: #434B5C;\n",
              "      box-shadow: 0px 1px 3px 1px rgba(0, 0, 0, 0.15);\n",
              "      filter: drop-shadow(0px 1px 2px rgba(0, 0, 0, 0.3));\n",
              "      fill: #FFFFFF;\n",
              "    }\n",
              "  </style>\n",
              "\n",
              "      <script>\n",
              "        const buttonEl =\n",
              "          document.querySelector('#df-b83a1e26-fcc4-449c-a579-bc617acd2ad4 button.colab-df-convert');\n",
              "        buttonEl.style.display =\n",
              "          google.colab.kernel.accessAllowed ? 'block' : 'none';\n",
              "\n",
              "        async function convertToInteractive(key) {\n",
              "          const element = document.querySelector('#df-b83a1e26-fcc4-449c-a579-bc617acd2ad4');\n",
              "          const dataTable =\n",
              "            await google.colab.kernel.invokeFunction('convertToInteractive',\n",
              "                                                     [key], {});\n",
              "          if (!dataTable) return;\n",
              "\n",
              "          const docLinkHtml = 'Like what you see? Visit the ' +\n",
              "            '<a target=\"_blank\" href=https://colab.research.google.com/notebooks/data_table.ipynb>data table notebook</a>'\n",
              "            + ' to learn more about interactive tables.';\n",
              "          element.innerHTML = '';\n",
              "          dataTable['output_type'] = 'display_data';\n",
              "          await google.colab.output.renderOutput(dataTable, element);\n",
              "          const docLink = document.createElement('div');\n",
              "          docLink.innerHTML = docLinkHtml;\n",
              "          element.appendChild(docLink);\n",
              "        }\n",
              "      </script>\n",
              "    </div>\n",
              "  </div>\n",
              "  "
            ]
          },
          "metadata": {},
          "execution_count": 11
        }
      ],
      "source": [
        "#Verificamos sí es positiva y las cantidades negativas son rechazadas\n",
        "anular[anular['Quantity']>0]"
      ]
    },
    {
      "cell_type": "code",
      "execution_count": null,
      "metadata": {
        "id": "sPaI2Lu0YllS",
        "colab": {
          "base_uri": "https://localhost:8080/"
        },
        "outputId": "c3a35dfc-5611-4e18-8974-04db2688f41e"
      },
      "outputs": [
        {
          "output_type": "stream",
          "name": "stdout",
          "text": [
            "Número de transacciones canceladas: 1858\n",
            "Número total de transacciones con cantidad negativa: 2135\n"
          ]
        }
      ],
      "source": [
        "print(\"Número de transacciones canceladas:\", len(anular))\n",
        "#Eliminamos las transiciones ya que no son utiles.\n",
        "print(\"Número total de transacciones con cantidad negativa:\", df[df['Quantity'] <= 0 ]['Quantity'].count())"
      ]
    },
    {
      "cell_type": "code",
      "execution_count": null,
      "metadata": {
        "id": "MD8d00XwYlcT",
        "colab": {
          "base_uri": "https://localhost:8080/",
          "height": 206
        },
        "outputId": "6255e70c-775a-4f92-8417-590760370af2"
      },
      "outputs": [
        {
          "output_type": "execute_result",
          "data": {
            "text/plain": [
              "       InvoiceNo StockCode               Description  Quantity  \\\n",
              "61702     541482     22837                       NaN       -35   \n",
              "142008    548540    90035A                       NaN        -9   \n",
              "147787    549132     20756                       NaN       -70   \n",
              "193575    553539     22522  CHILDS GARDEN FORK BLUE          1   \n",
              "193205    553521     22626      BLACK KITCHEN SCALES         1   \n",
              "\n",
              "               InvoiceDate  UnitPrice  CustomerID         Country  \n",
              "61702  2011-01-18 12:32:00        0.0         NaN  United Kingdom  \n",
              "142008 2011-03-31 17:51:00        0.0         NaN  United Kingdom  \n",
              "147787 2011-04-06 15:22:00        0.0         NaN  United Kingdom  \n",
              "193575 2011-05-17 15:27:00        0.0         NaN  United Kingdom  \n",
              "193205 2011-05-17 14:35:00        0.0         NaN  United Kingdom  "
            ],
            "text/html": [
              "\n",
              "  <div id=\"df-4eb4bf06-aaf1-4400-9a07-05efa6200e94\">\n",
              "    <div class=\"colab-df-container\">\n",
              "      <div>\n",
              "<style scoped>\n",
              "    .dataframe tbody tr th:only-of-type {\n",
              "        vertical-align: middle;\n",
              "    }\n",
              "\n",
              "    .dataframe tbody tr th {\n",
              "        vertical-align: top;\n",
              "    }\n",
              "\n",
              "    .dataframe thead th {\n",
              "        text-align: right;\n",
              "    }\n",
              "</style>\n",
              "<table border=\"1\" class=\"dataframe\">\n",
              "  <thead>\n",
              "    <tr style=\"text-align: right;\">\n",
              "      <th></th>\n",
              "      <th>InvoiceNo</th>\n",
              "      <th>StockCode</th>\n",
              "      <th>Description</th>\n",
              "      <th>Quantity</th>\n",
              "      <th>InvoiceDate</th>\n",
              "      <th>UnitPrice</th>\n",
              "      <th>CustomerID</th>\n",
              "      <th>Country</th>\n",
              "    </tr>\n",
              "  </thead>\n",
              "  <tbody>\n",
              "    <tr>\n",
              "      <th>61702</th>\n",
              "      <td>541482</td>\n",
              "      <td>22837</td>\n",
              "      <td>NaN</td>\n",
              "      <td>-35</td>\n",
              "      <td>2011-01-18 12:32:00</td>\n",
              "      <td>0.0</td>\n",
              "      <td>NaN</td>\n",
              "      <td>United Kingdom</td>\n",
              "    </tr>\n",
              "    <tr>\n",
              "      <th>142008</th>\n",
              "      <td>548540</td>\n",
              "      <td>90035A</td>\n",
              "      <td>NaN</td>\n",
              "      <td>-9</td>\n",
              "      <td>2011-03-31 17:51:00</td>\n",
              "      <td>0.0</td>\n",
              "      <td>NaN</td>\n",
              "      <td>United Kingdom</td>\n",
              "    </tr>\n",
              "    <tr>\n",
              "      <th>147787</th>\n",
              "      <td>549132</td>\n",
              "      <td>20756</td>\n",
              "      <td>NaN</td>\n",
              "      <td>-70</td>\n",
              "      <td>2011-04-06 15:22:00</td>\n",
              "      <td>0.0</td>\n",
              "      <td>NaN</td>\n",
              "      <td>United Kingdom</td>\n",
              "    </tr>\n",
              "    <tr>\n",
              "      <th>193575</th>\n",
              "      <td>553539</td>\n",
              "      <td>22522</td>\n",
              "      <td>CHILDS GARDEN FORK BLUE</td>\n",
              "      <td>1</td>\n",
              "      <td>2011-05-17 15:27:00</td>\n",
              "      <td>0.0</td>\n",
              "      <td>NaN</td>\n",
              "      <td>United Kingdom</td>\n",
              "    </tr>\n",
              "    <tr>\n",
              "      <th>193205</th>\n",
              "      <td>553521</td>\n",
              "      <td>22626</td>\n",
              "      <td>BLACK KITCHEN SCALES</td>\n",
              "      <td>1</td>\n",
              "      <td>2011-05-17 14:35:00</td>\n",
              "      <td>0.0</td>\n",
              "      <td>NaN</td>\n",
              "      <td>United Kingdom</td>\n",
              "    </tr>\n",
              "  </tbody>\n",
              "</table>\n",
              "</div>\n",
              "      <button class=\"colab-df-convert\" onclick=\"convertToInteractive('df-4eb4bf06-aaf1-4400-9a07-05efa6200e94')\"\n",
              "              title=\"Convert this dataframe to an interactive table.\"\n",
              "              style=\"display:none;\">\n",
              "        \n",
              "  <svg xmlns=\"http://www.w3.org/2000/svg\" height=\"24px\"viewBox=\"0 0 24 24\"\n",
              "       width=\"24px\">\n",
              "    <path d=\"M0 0h24v24H0V0z\" fill=\"none\"/>\n",
              "    <path d=\"M18.56 5.44l.94 2.06.94-2.06 2.06-.94-2.06-.94-.94-2.06-.94 2.06-2.06.94zm-11 1L8.5 8.5l.94-2.06 2.06-.94-2.06-.94L8.5 2.5l-.94 2.06-2.06.94zm10 10l.94 2.06.94-2.06 2.06-.94-2.06-.94-.94-2.06-.94 2.06-2.06.94z\"/><path d=\"M17.41 7.96l-1.37-1.37c-.4-.4-.92-.59-1.43-.59-.52 0-1.04.2-1.43.59L10.3 9.45l-7.72 7.72c-.78.78-.78 2.05 0 2.83L4 21.41c.39.39.9.59 1.41.59.51 0 1.02-.2 1.41-.59l7.78-7.78 2.81-2.81c.8-.78.8-2.07 0-2.86zM5.41 20L4 18.59l7.72-7.72 1.47 1.35L5.41 20z\"/>\n",
              "  </svg>\n",
              "      </button>\n",
              "      \n",
              "  <style>\n",
              "    .colab-df-container {\n",
              "      display:flex;\n",
              "      flex-wrap:wrap;\n",
              "      gap: 12px;\n",
              "    }\n",
              "\n",
              "    .colab-df-convert {\n",
              "      background-color: #E8F0FE;\n",
              "      border: none;\n",
              "      border-radius: 50%;\n",
              "      cursor: pointer;\n",
              "      display: none;\n",
              "      fill: #1967D2;\n",
              "      height: 32px;\n",
              "      padding: 0 0 0 0;\n",
              "      width: 32px;\n",
              "    }\n",
              "\n",
              "    .colab-df-convert:hover {\n",
              "      background-color: #E2EBFA;\n",
              "      box-shadow: 0px 1px 2px rgba(60, 64, 67, 0.3), 0px 1px 3px 1px rgba(60, 64, 67, 0.15);\n",
              "      fill: #174EA6;\n",
              "    }\n",
              "\n",
              "    [theme=dark] .colab-df-convert {\n",
              "      background-color: #3B4455;\n",
              "      fill: #D2E3FC;\n",
              "    }\n",
              "\n",
              "    [theme=dark] .colab-df-convert:hover {\n",
              "      background-color: #434B5C;\n",
              "      box-shadow: 0px 1px 3px 1px rgba(0, 0, 0, 0.15);\n",
              "      filter: drop-shadow(0px 1px 2px rgba(0, 0, 0, 0.3));\n",
              "      fill: #FFFFFF;\n",
              "    }\n",
              "  </style>\n",
              "\n",
              "      <script>\n",
              "        const buttonEl =\n",
              "          document.querySelector('#df-4eb4bf06-aaf1-4400-9a07-05efa6200e94 button.colab-df-convert');\n",
              "        buttonEl.style.display =\n",
              "          google.colab.kernel.accessAllowed ? 'block' : 'none';\n",
              "\n",
              "        async function convertToInteractive(key) {\n",
              "          const element = document.querySelector('#df-4eb4bf06-aaf1-4400-9a07-05efa6200e94');\n",
              "          const dataTable =\n",
              "            await google.colab.kernel.invokeFunction('convertToInteractive',\n",
              "                                                     [key], {});\n",
              "          if (!dataTable) return;\n",
              "\n",
              "          const docLinkHtml = 'Like what you see? Visit the ' +\n",
              "            '<a target=\"_blank\" href=https://colab.research.google.com/notebooks/data_table.ipynb>data table notebook</a>'\n",
              "            + ' to learn more about interactive tables.';\n",
              "          element.innerHTML = '';\n",
              "          dataTable['output_type'] = 'display_data';\n",
              "          await google.colab.output.renderOutput(dataTable, element);\n",
              "          const docLink = document.createElement('div');\n",
              "          docLink.innerHTML = docLinkHtml;\n",
              "          element.appendChild(docLink);\n",
              "        }\n",
              "      </script>\n",
              "    </div>\n",
              "  </div>\n",
              "  "
            ]
          },
          "metadata": {},
          "execution_count": 13
        }
      ],
      "source": [
        "#Visualizamos los primeros datos de UnitPrice.\n",
        "df[df['UnitPrice'] == 0].head()"
      ]
    },
    {
      "cell_type": "code",
      "execution_count": null,
      "metadata": {
        "id": "JSxQVbBpaFTw",
        "colab": {
          "base_uri": "https://localhost:8080/",
          "height": 49
        },
        "outputId": "b37205e7-da2d-4097-f692-f7e409cbaf88"
      },
      "outputs": [
        {
          "output_type": "execute_result",
          "data": {
            "text/plain": [
              "Empty DataFrame\n",
              "Columns: [InvoiceNo, StockCode, Description, Quantity, InvoiceDate, UnitPrice, CustomerID, Country]\n",
              "Index: []"
            ],
            "text/html": [
              "\n",
              "  <div id=\"df-34e296e6-e940-4c61-9dc4-96259e15af08\">\n",
              "    <div class=\"colab-df-container\">\n",
              "      <div>\n",
              "<style scoped>\n",
              "    .dataframe tbody tr th:only-of-type {\n",
              "        vertical-align: middle;\n",
              "    }\n",
              "\n",
              "    .dataframe tbody tr th {\n",
              "        vertical-align: top;\n",
              "    }\n",
              "\n",
              "    .dataframe thead th {\n",
              "        text-align: right;\n",
              "    }\n",
              "</style>\n",
              "<table border=\"1\" class=\"dataframe\">\n",
              "  <thead>\n",
              "    <tr style=\"text-align: right;\">\n",
              "      <th></th>\n",
              "      <th>InvoiceNo</th>\n",
              "      <th>StockCode</th>\n",
              "      <th>Description</th>\n",
              "      <th>Quantity</th>\n",
              "      <th>InvoiceDate</th>\n",
              "      <th>UnitPrice</th>\n",
              "      <th>CustomerID</th>\n",
              "      <th>Country</th>\n",
              "    </tr>\n",
              "  </thead>\n",
              "  <tbody>\n",
              "  </tbody>\n",
              "</table>\n",
              "</div>\n",
              "      <button class=\"colab-df-convert\" onclick=\"convertToInteractive('df-34e296e6-e940-4c61-9dc4-96259e15af08')\"\n",
              "              title=\"Convert this dataframe to an interactive table.\"\n",
              "              style=\"display:none;\">\n",
              "        \n",
              "  <svg xmlns=\"http://www.w3.org/2000/svg\" height=\"24px\"viewBox=\"0 0 24 24\"\n",
              "       width=\"24px\">\n",
              "    <path d=\"M0 0h24v24H0V0z\" fill=\"none\"/>\n",
              "    <path d=\"M18.56 5.44l.94 2.06.94-2.06 2.06-.94-2.06-.94-.94-2.06-.94 2.06-2.06.94zm-11 1L8.5 8.5l.94-2.06 2.06-.94-2.06-.94L8.5 2.5l-.94 2.06-2.06.94zm10 10l.94 2.06.94-2.06 2.06-.94-2.06-.94-.94-2.06-.94 2.06-2.06.94z\"/><path d=\"M17.41 7.96l-1.37-1.37c-.4-.4-.92-.59-1.43-.59-.52 0-1.04.2-1.43.59L10.3 9.45l-7.72 7.72c-.78.78-.78 2.05 0 2.83L4 21.41c.39.39.9.59 1.41.59.51 0 1.02-.2 1.41-.59l7.78-7.78 2.81-2.81c.8-.78.8-2.07 0-2.86zM5.41 20L4 18.59l7.72-7.72 1.47 1.35L5.41 20z\"/>\n",
              "  </svg>\n",
              "      </button>\n",
              "      \n",
              "  <style>\n",
              "    .colab-df-container {\n",
              "      display:flex;\n",
              "      flex-wrap:wrap;\n",
              "      gap: 12px;\n",
              "    }\n",
              "\n",
              "    .colab-df-convert {\n",
              "      background-color: #E8F0FE;\n",
              "      border: none;\n",
              "      border-radius: 50%;\n",
              "      cursor: pointer;\n",
              "      display: none;\n",
              "      fill: #1967D2;\n",
              "      height: 32px;\n",
              "      padding: 0 0 0 0;\n",
              "      width: 32px;\n",
              "    }\n",
              "\n",
              "    .colab-df-convert:hover {\n",
              "      background-color: #E2EBFA;\n",
              "      box-shadow: 0px 1px 2px rgba(60, 64, 67, 0.3), 0px 1px 3px 1px rgba(60, 64, 67, 0.15);\n",
              "      fill: #174EA6;\n",
              "    }\n",
              "\n",
              "    [theme=dark] .colab-df-convert {\n",
              "      background-color: #3B4455;\n",
              "      fill: #D2E3FC;\n",
              "    }\n",
              "\n",
              "    [theme=dark] .colab-df-convert:hover {\n",
              "      background-color: #434B5C;\n",
              "      box-shadow: 0px 1px 3px 1px rgba(0, 0, 0, 0.15);\n",
              "      filter: drop-shadow(0px 1px 2px rgba(0, 0, 0, 0.3));\n",
              "      fill: #FFFFFF;\n",
              "    }\n",
              "  </style>\n",
              "\n",
              "      <script>\n",
              "        const buttonEl =\n",
              "          document.querySelector('#df-34e296e6-e940-4c61-9dc4-96259e15af08 button.colab-df-convert');\n",
              "        buttonEl.style.display =\n",
              "          google.colab.kernel.accessAllowed ? 'block' : 'none';\n",
              "\n",
              "        async function convertToInteractive(key) {\n",
              "          const element = document.querySelector('#df-34e296e6-e940-4c61-9dc4-96259e15af08');\n",
              "          const dataTable =\n",
              "            await google.colab.kernel.invokeFunction('convertToInteractive',\n",
              "                                                     [key], {});\n",
              "          if (!dataTable) return;\n",
              "\n",
              "          const docLinkHtml = 'Like what you see? Visit the ' +\n",
              "            '<a target=\"_blank\" href=https://colab.research.google.com/notebooks/data_table.ipynb>data table notebook</a>'\n",
              "            + ' to learn more about interactive tables.';\n",
              "          element.innerHTML = '';\n",
              "          dataTable['output_type'] = 'display_data';\n",
              "          await google.colab.output.renderOutput(dataTable, element);\n",
              "          const docLink = document.createElement('div');\n",
              "          docLink.innerHTML = docLinkHtml;\n",
              "          element.appendChild(docLink);\n",
              "        }\n",
              "      </script>\n",
              "    </div>\n",
              "  </div>\n",
              "  "
            ]
          },
          "metadata": {},
          "execution_count": 14
        }
      ],
      "source": [
        "#Existen 2 datos que sus valores son negativos y no son requeridos para el diseño y se eliminaran.\n",
        "df[df['UnitPrice'] < 0].head()"
      ]
    },
    {
      "cell_type": "code",
      "execution_count": null,
      "metadata": {
        "id": "p3rY8f3TaFRY",
        "colab": {
          "base_uri": "https://localhost:8080/"
        },
        "outputId": "26e87240-9848-453e-b244-2838d2bac30b"
      },
      "outputs": [
        {
          "output_type": "stream",
          "name": "stdout",
          "text": [
            "Número de transacciones con valor de cantidad negativo entre las transacciones no canceladas: 277\n",
            "Número de transacciones con precio cero y cantidad negativa 277\n"
          ]
        }
      ],
      "source": [
        "#Las transcaciones negativas tiene un precio de 0\n",
        "d = df[~df['InvoiceNo'].astype(str).str.contains('C')]  \n",
        "print(\"Número de transacciones con valor de cantidad negativo entre las transacciones no canceladas:\" ,len(d[d['Quantity']<=0]))\n",
        "print(\"Número de transacciones con precio cero y cantidad negativa\" ,len(d[(d['Quantity']<=0) & (d['UnitPrice'] == 0)]))"
      ]
    },
    {
      "cell_type": "code",
      "execution_count": null,
      "metadata": {
        "id": "OCyVxHgPaFPC",
        "colab": {
          "base_uri": "https://localhost:8080/"
        },
        "outputId": "0ea2a6e4-0319-46c8-a5af-006fddf5c3a0"
      },
      "outputs": [
        {
          "output_type": "stream",
          "name": "stdout",
          "text": [
            "Porcentaje de transacciones canceladas: 1.71 %\n",
            "Porcentaje de transacciones con precio cero o negativo 0.46 %\n"
          ]
        }
      ],
      "source": [
        "#Verifiquemos la cantidad de datos (%) cuanto representa\n",
        "print(\"Porcentaje de transacciones canceladas:\" , round(len(anular)/len(df)*100, 2),\"%\")\n",
        "print(\"Porcentaje de transacciones con precio cero o negativo\" ,round(len(df[df['UnitPrice']<=0])/len(df)*100, 2),\"%\")\n",
        "#Vemos que la cantidad es minima pequeña y no llegará afectar."
      ]
    },
    {
      "cell_type": "code",
      "execution_count": null,
      "metadata": {
        "id": "5eirqxGnaFMv"
      },
      "outputs": [],
      "source": [
        "df = df[(df['UnitPrice'] > 0) & (df['Quantity']>0)]"
      ]
    },
    {
      "cell_type": "code",
      "execution_count": null,
      "metadata": {
        "id": "l82BB8IOaFKD",
        "colab": {
          "base_uri": "https://localhost:8080/"
        },
        "outputId": "b87bd0c0-34be-4a20-819e-25c1a235a537"
      },
      "outputs": [
        {
          "output_type": "stream",
          "name": "stdout",
          "text": [
            "<class 'pandas.core.frame.DataFrame'>\n",
            "Int64Index: 106023 entries, 215110 to 450401\n",
            "Data columns (total 8 columns):\n",
            " #   Column       Non-Null Count   Dtype         \n",
            "---  ------       --------------   -----         \n",
            " 0   InvoiceNo    106023 non-null  object        \n",
            " 1   StockCode    106023 non-null  object        \n",
            " 2   Description  106023 non-null  object        \n",
            " 3   Quantity     106023 non-null  int64         \n",
            " 4   InvoiceDate  106023 non-null  datetime64[ns]\n",
            " 5   UnitPrice    106023 non-null  float64       \n",
            " 6   CustomerID   79600 non-null   float64       \n",
            " 7   Country      106023 non-null  object        \n",
            "dtypes: datetime64[ns](1), float64(2), int64(1), object(4)\n",
            "memory usage: 7.3+ MB\n"
          ]
        }
      ],
      "source": [
        "#Verificamos que las columnas que poseen informacion invalidad, ya no estan.\n",
        "df.info()"
      ]
    },
    {
      "cell_type": "code",
      "execution_count": null,
      "metadata": {
        "id": "799iOH20aFHu",
        "colab": {
          "base_uri": "https://localhost:8080/"
        },
        "outputId": "bd528ac9-ffc8-4251-d8d9-ba5c91eadb25"
      },
      "outputs": [
        {
          "output_type": "stream",
          "name": "stdout",
          "text": [
            "Número de transacciones duplicadas: 237\n"
          ]
        }
      ],
      "source": [
        "#verifiquemos las columnas duplicadas y eliminadas \n",
        "print(\"Número de transacciones duplicadas:\", len(df[df.duplicated()]))"
      ]
    },
    {
      "cell_type": "code",
      "execution_count": null,
      "metadata": {
        "id": "pBMg6vp8aFFG"
      },
      "outputs": [],
      "source": [
        "df.drop_duplicates(inplace = True)"
      ]
    },
    {
      "cell_type": "code",
      "execution_count": null,
      "metadata": {
        "id": "CEvSeCxRaFCy"
      },
      "outputs": [],
      "source": [
        "#se suprime las columna ID de clientes faltantes\n",
        "df = df.dropna(subset=['CustomerID'])"
      ]
    },
    {
      "cell_type": "markdown",
      "metadata": {
        "id": "3VBNYDilaYD_"
      },
      "source": [
        "#Descripcion"
      ]
    },
    {
      "cell_type": "code",
      "execution_count": null,
      "metadata": {
        "id": "xGPf1Qx8abEd"
      },
      "outputs": [],
      "source": [
        "#La informacion encontrada tiene letras en mayuscula y minuscula, lo que cambios a minuscula.\n",
        "df['Description'] = df['Description'].str.lower()"
      ]
    },
    {
      "cell_type": "code",
      "execution_count": null,
      "metadata": {
        "id": "QEM6p5VAachV",
        "colab": {
          "base_uri": "https://localhost:8080/"
        },
        "outputId": "7d37585e-3402-45ff-bc43-a8b19b0de092"
      },
      "outputs": [
        {
          "output_type": "stream",
          "name": "stdout",
          "text": [
            "Number of unique descriptions: 3417\n"
          ]
        }
      ],
      "source": [
        "print(\"Number of unique descriptions:\", len(df['Description'].unique().tolist()))"
      ]
    },
    {
      "cell_type": "code",
      "execution_count": null,
      "metadata": {
        "id": "2eWwNw_Bace2",
        "colab": {
          "base_uri": "https://localhost:8080/",
          "height": 206
        },
        "outputId": "5d5cab66-0ec4-4192-e73d-b1169425a9d2"
      },
      "outputs": [
        {
          "output_type": "execute_result",
          "data": {
            "text/plain": [
              "       InvoiceNo StockCode                        Description  Quantity  \\\n",
              "215110    555647     22699   roses regency teacup and saucer          6   \n",
              "323388    565295     23189             set of 12 fork candles         6   \n",
              "37521     539469    84997D  pink 3 piece polkadot cutlery set         1   \n",
              "151819    549569     84978   hanging heart jar t-light holder         6   \n",
              "111031    545710     22254               felt toadstool large        12   \n",
              "\n",
              "               InvoiceDate  UnitPrice  CustomerID         Country  \n",
              "215110 2011-06-06 13:43:00       2.95     12957.0  United Kingdom  \n",
              "323388 2011-09-02 12:01:00       2.89     12794.0        Portugal  \n",
              "37521  2010-12-19 13:59:00       3.75     17841.0  United Kingdom  \n",
              "151819 2011-04-10 15:15:00       1.25     15547.0  United Kingdom  \n",
              "111031 2011-03-07 09:52:00       1.25     13117.0  United Kingdom  "
            ],
            "text/html": [
              "\n",
              "  <div id=\"df-b3dc9046-a387-4f26-a6f4-1f8153ef1a07\">\n",
              "    <div class=\"colab-df-container\">\n",
              "      <div>\n",
              "<style scoped>\n",
              "    .dataframe tbody tr th:only-of-type {\n",
              "        vertical-align: middle;\n",
              "    }\n",
              "\n",
              "    .dataframe tbody tr th {\n",
              "        vertical-align: top;\n",
              "    }\n",
              "\n",
              "    .dataframe thead th {\n",
              "        text-align: right;\n",
              "    }\n",
              "</style>\n",
              "<table border=\"1\" class=\"dataframe\">\n",
              "  <thead>\n",
              "    <tr style=\"text-align: right;\">\n",
              "      <th></th>\n",
              "      <th>InvoiceNo</th>\n",
              "      <th>StockCode</th>\n",
              "      <th>Description</th>\n",
              "      <th>Quantity</th>\n",
              "      <th>InvoiceDate</th>\n",
              "      <th>UnitPrice</th>\n",
              "      <th>CustomerID</th>\n",
              "      <th>Country</th>\n",
              "    </tr>\n",
              "  </thead>\n",
              "  <tbody>\n",
              "    <tr>\n",
              "      <th>215110</th>\n",
              "      <td>555647</td>\n",
              "      <td>22699</td>\n",
              "      <td>roses regency teacup and saucer</td>\n",
              "      <td>6</td>\n",
              "      <td>2011-06-06 13:43:00</td>\n",
              "      <td>2.95</td>\n",
              "      <td>12957.0</td>\n",
              "      <td>United Kingdom</td>\n",
              "    </tr>\n",
              "    <tr>\n",
              "      <th>323388</th>\n",
              "      <td>565295</td>\n",
              "      <td>23189</td>\n",
              "      <td>set of 12 fork candles</td>\n",
              "      <td>6</td>\n",
              "      <td>2011-09-02 12:01:00</td>\n",
              "      <td>2.89</td>\n",
              "      <td>12794.0</td>\n",
              "      <td>Portugal</td>\n",
              "    </tr>\n",
              "    <tr>\n",
              "      <th>37521</th>\n",
              "      <td>539469</td>\n",
              "      <td>84997D</td>\n",
              "      <td>pink 3 piece polkadot cutlery set</td>\n",
              "      <td>1</td>\n",
              "      <td>2010-12-19 13:59:00</td>\n",
              "      <td>3.75</td>\n",
              "      <td>17841.0</td>\n",
              "      <td>United Kingdom</td>\n",
              "    </tr>\n",
              "    <tr>\n",
              "      <th>151819</th>\n",
              "      <td>549569</td>\n",
              "      <td>84978</td>\n",
              "      <td>hanging heart jar t-light holder</td>\n",
              "      <td>6</td>\n",
              "      <td>2011-04-10 15:15:00</td>\n",
              "      <td>1.25</td>\n",
              "      <td>15547.0</td>\n",
              "      <td>United Kingdom</td>\n",
              "    </tr>\n",
              "    <tr>\n",
              "      <th>111031</th>\n",
              "      <td>545710</td>\n",
              "      <td>22254</td>\n",
              "      <td>felt toadstool large</td>\n",
              "      <td>12</td>\n",
              "      <td>2011-03-07 09:52:00</td>\n",
              "      <td>1.25</td>\n",
              "      <td>13117.0</td>\n",
              "      <td>United Kingdom</td>\n",
              "    </tr>\n",
              "  </tbody>\n",
              "</table>\n",
              "</div>\n",
              "      <button class=\"colab-df-convert\" onclick=\"convertToInteractive('df-b3dc9046-a387-4f26-a6f4-1f8153ef1a07')\"\n",
              "              title=\"Convert this dataframe to an interactive table.\"\n",
              "              style=\"display:none;\">\n",
              "        \n",
              "  <svg xmlns=\"http://www.w3.org/2000/svg\" height=\"24px\"viewBox=\"0 0 24 24\"\n",
              "       width=\"24px\">\n",
              "    <path d=\"M0 0h24v24H0V0z\" fill=\"none\"/>\n",
              "    <path d=\"M18.56 5.44l.94 2.06.94-2.06 2.06-.94-2.06-.94-.94-2.06-.94 2.06-2.06.94zm-11 1L8.5 8.5l.94-2.06 2.06-.94-2.06-.94L8.5 2.5l-.94 2.06-2.06.94zm10 10l.94 2.06.94-2.06 2.06-.94-2.06-.94-.94-2.06-.94 2.06-2.06.94z\"/><path d=\"M17.41 7.96l-1.37-1.37c-.4-.4-.92-.59-1.43-.59-.52 0-1.04.2-1.43.59L10.3 9.45l-7.72 7.72c-.78.78-.78 2.05 0 2.83L4 21.41c.39.39.9.59 1.41.59.51 0 1.02-.2 1.41-.59l7.78-7.78 2.81-2.81c.8-.78.8-2.07 0-2.86zM5.41 20L4 18.59l7.72-7.72 1.47 1.35L5.41 20z\"/>\n",
              "  </svg>\n",
              "      </button>\n",
              "      \n",
              "  <style>\n",
              "    .colab-df-container {\n",
              "      display:flex;\n",
              "      flex-wrap:wrap;\n",
              "      gap: 12px;\n",
              "    }\n",
              "\n",
              "    .colab-df-convert {\n",
              "      background-color: #E8F0FE;\n",
              "      border: none;\n",
              "      border-radius: 50%;\n",
              "      cursor: pointer;\n",
              "      display: none;\n",
              "      fill: #1967D2;\n",
              "      height: 32px;\n",
              "      padding: 0 0 0 0;\n",
              "      width: 32px;\n",
              "    }\n",
              "\n",
              "    .colab-df-convert:hover {\n",
              "      background-color: #E2EBFA;\n",
              "      box-shadow: 0px 1px 2px rgba(60, 64, 67, 0.3), 0px 1px 3px 1px rgba(60, 64, 67, 0.15);\n",
              "      fill: #174EA6;\n",
              "    }\n",
              "\n",
              "    [theme=dark] .colab-df-convert {\n",
              "      background-color: #3B4455;\n",
              "      fill: #D2E3FC;\n",
              "    }\n",
              "\n",
              "    [theme=dark] .colab-df-convert:hover {\n",
              "      background-color: #434B5C;\n",
              "      box-shadow: 0px 1px 3px 1px rgba(0, 0, 0, 0.15);\n",
              "      filter: drop-shadow(0px 1px 2px rgba(0, 0, 0, 0.3));\n",
              "      fill: #FFFFFF;\n",
              "    }\n",
              "  </style>\n",
              "\n",
              "      <script>\n",
              "        const buttonEl =\n",
              "          document.querySelector('#df-b3dc9046-a387-4f26-a6f4-1f8153ef1a07 button.colab-df-convert');\n",
              "        buttonEl.style.display =\n",
              "          google.colab.kernel.accessAllowed ? 'block' : 'none';\n",
              "\n",
              "        async function convertToInteractive(key) {\n",
              "          const element = document.querySelector('#df-b3dc9046-a387-4f26-a6f4-1f8153ef1a07');\n",
              "          const dataTable =\n",
              "            await google.colab.kernel.invokeFunction('convertToInteractive',\n",
              "                                                     [key], {});\n",
              "          if (!dataTable) return;\n",
              "\n",
              "          const docLinkHtml = 'Like what you see? Visit the ' +\n",
              "            '<a target=\"_blank\" href=https://colab.research.google.com/notebooks/data_table.ipynb>data table notebook</a>'\n",
              "            + ' to learn more about interactive tables.';\n",
              "          element.innerHTML = '';\n",
              "          dataTable['output_type'] = 'display_data';\n",
              "          await google.colab.output.renderOutput(dataTable, element);\n",
              "          const docLink = document.createElement('div');\n",
              "          docLink.innerHTML = docLinkHtml;\n",
              "          element.appendChild(docLink);\n",
              "        }\n",
              "      </script>\n",
              "    </div>\n",
              "  </div>\n",
              "  "
            ]
          },
          "metadata": {},
          "execution_count": 24
        }
      ],
      "source": [
        "#Verificamos sí la informacion esta en minuscula.\n",
        "df.head()"
      ]
    },
    {
      "cell_type": "code",
      "execution_count": null,
      "metadata": {
        "id": "t8lM4WaMacb0"
      },
      "outputs": [],
      "source": [
        "df['Description'] = df['Description'].replace(to_replace=r'[^\\w\\s]', value='', regex=True) "
      ]
    },
    {
      "cell_type": "code",
      "execution_count": null,
      "metadata": {
        "id": "ZVUoyPjAacZJ",
        "colab": {
          "base_uri": "https://localhost:8080/"
        },
        "outputId": "9cc10ac6-a3c9-4416-f945-ec60ef7acbe5"
      },
      "outputs": [
        {
          "output_type": "stream",
          "name": "stdout",
          "text": [
            "Number of unique descriptions: 3411\n"
          ]
        }
      ],
      "source": [
        "print(\"Number of unique descriptions:\", len(df['Description'].unique().tolist()))"
      ]
    },
    {
      "cell_type": "code",
      "execution_count": null,
      "metadata": {
        "id": "WENZ8kqeacWp"
      },
      "outputs": [],
      "source": [
        "df = df.loc[df['StockCode'].astype(str).str[0:4].str.isdigit()]"
      ]
    },
    {
      "cell_type": "code",
      "execution_count": null,
      "metadata": {
        "id": "EP5SmlMtacUV",
        "colab": {
          "base_uri": "https://localhost:8080/"
        },
        "outputId": "64135b47-f604-4abc-8ea0-753b3143f863"
      },
      "outputs": [
        {
          "output_type": "execute_result",
          "data": {
            "text/plain": [
              "3280"
            ]
          },
          "metadata": {},
          "execution_count": 28
        }
      ],
      "source": [
        "len(df['StockCode'].unique().tolist())"
      ]
    },
    {
      "cell_type": "code",
      "execution_count": null,
      "metadata": {
        "id": "iht346lLacRm"
      },
      "outputs": [],
      "source": [
        "#Escogemos los datos que tengan mes y año.\n",
        "df['month'] = df['InvoiceDate'].dt.month\n",
        "df['year'] = df['InvoiceDate'].dt.year"
      ]
    },
    {
      "cell_type": "code",
      "execution_count": null,
      "metadata": {
        "id": "hovaAGO5acO8"
      },
      "outputs": [],
      "source": [
        "#Escogemos los datos que tengan fin de semana.\n",
        "df['WeekDay'] = df['InvoiceDate'].dt.day_name()"
      ]
    },
    {
      "cell_type": "code",
      "execution_count": null,
      "metadata": {
        "id": "l_RFFy53acMG"
      },
      "outputs": [],
      "source": [
        "#Escogemos los datos que tengan mes año\n",
        "df['month_year'] = pd.to_datetime(df[['year', 'month']].assign(Day=1))"
      ]
    },
    {
      "cell_type": "code",
      "execution_count": null,
      "metadata": {
        "id": "FgLEPOEta8Fk"
      },
      "outputs": [],
      "source": [
        "#Escogemos los datos que hora\n",
        "df['hour'] = df['InvoiceDate'].dt.hour"
      ]
    },
    {
      "cell_type": "code",
      "execution_count": null,
      "metadata": {
        "id": "WV9l1Y2da8Dg",
        "colab": {
          "base_uri": "https://localhost:8080/",
          "height": 337
        },
        "outputId": "0a395c8f-8686-4fc4-e797-9205861482e1"
      },
      "outputs": [
        {
          "output_type": "execute_result",
          "data": {
            "text/plain": [
              "       InvoiceNo StockCode                        Description  Quantity  \\\n",
              "215110    555647     22699   roses regency teacup and saucer          6   \n",
              "323388    565295     23189             set of 12 fork candles         6   \n",
              "37521     539469    84997D  pink 3 piece polkadot cutlery set         1   \n",
              "151819    549569     84978    hanging heart jar tlight holder         6   \n",
              "111031    545710     22254               felt toadstool large        12   \n",
              "\n",
              "               InvoiceDate  UnitPrice  CustomerID         Country  month  \\\n",
              "215110 2011-06-06 13:43:00       2.95     12957.0  United Kingdom      6   \n",
              "323388 2011-09-02 12:01:00       2.89     12794.0        Portugal      9   \n",
              "37521  2010-12-19 13:59:00       3.75     17841.0  United Kingdom     12   \n",
              "151819 2011-04-10 15:15:00       1.25     15547.0  United Kingdom      4   \n",
              "111031 2011-03-07 09:52:00       1.25     13117.0  United Kingdom      3   \n",
              "\n",
              "        year WeekDay month_year  hour  \n",
              "215110  2011  Monday 2011-06-01    13  \n",
              "323388  2011  Friday 2011-09-01    12  \n",
              "37521   2010  Sunday 2010-12-01    13  \n",
              "151819  2011  Sunday 2011-04-01    15  \n",
              "111031  2011  Monday 2011-03-01     9  "
            ],
            "text/html": [
              "\n",
              "  <div id=\"df-2301332a-aa24-470a-8e71-91028769c4c5\">\n",
              "    <div class=\"colab-df-container\">\n",
              "      <div>\n",
              "<style scoped>\n",
              "    .dataframe tbody tr th:only-of-type {\n",
              "        vertical-align: middle;\n",
              "    }\n",
              "\n",
              "    .dataframe tbody tr th {\n",
              "        vertical-align: top;\n",
              "    }\n",
              "\n",
              "    .dataframe thead th {\n",
              "        text-align: right;\n",
              "    }\n",
              "</style>\n",
              "<table border=\"1\" class=\"dataframe\">\n",
              "  <thead>\n",
              "    <tr style=\"text-align: right;\">\n",
              "      <th></th>\n",
              "      <th>InvoiceNo</th>\n",
              "      <th>StockCode</th>\n",
              "      <th>Description</th>\n",
              "      <th>Quantity</th>\n",
              "      <th>InvoiceDate</th>\n",
              "      <th>UnitPrice</th>\n",
              "      <th>CustomerID</th>\n",
              "      <th>Country</th>\n",
              "      <th>month</th>\n",
              "      <th>year</th>\n",
              "      <th>WeekDay</th>\n",
              "      <th>month_year</th>\n",
              "      <th>hour</th>\n",
              "    </tr>\n",
              "  </thead>\n",
              "  <tbody>\n",
              "    <tr>\n",
              "      <th>215110</th>\n",
              "      <td>555647</td>\n",
              "      <td>22699</td>\n",
              "      <td>roses regency teacup and saucer</td>\n",
              "      <td>6</td>\n",
              "      <td>2011-06-06 13:43:00</td>\n",
              "      <td>2.95</td>\n",
              "      <td>12957.0</td>\n",
              "      <td>United Kingdom</td>\n",
              "      <td>6</td>\n",
              "      <td>2011</td>\n",
              "      <td>Monday</td>\n",
              "      <td>2011-06-01</td>\n",
              "      <td>13</td>\n",
              "    </tr>\n",
              "    <tr>\n",
              "      <th>323388</th>\n",
              "      <td>565295</td>\n",
              "      <td>23189</td>\n",
              "      <td>set of 12 fork candles</td>\n",
              "      <td>6</td>\n",
              "      <td>2011-09-02 12:01:00</td>\n",
              "      <td>2.89</td>\n",
              "      <td>12794.0</td>\n",
              "      <td>Portugal</td>\n",
              "      <td>9</td>\n",
              "      <td>2011</td>\n",
              "      <td>Friday</td>\n",
              "      <td>2011-09-01</td>\n",
              "      <td>12</td>\n",
              "    </tr>\n",
              "    <tr>\n",
              "      <th>37521</th>\n",
              "      <td>539469</td>\n",
              "      <td>84997D</td>\n",
              "      <td>pink 3 piece polkadot cutlery set</td>\n",
              "      <td>1</td>\n",
              "      <td>2010-12-19 13:59:00</td>\n",
              "      <td>3.75</td>\n",
              "      <td>17841.0</td>\n",
              "      <td>United Kingdom</td>\n",
              "      <td>12</td>\n",
              "      <td>2010</td>\n",
              "      <td>Sunday</td>\n",
              "      <td>2010-12-01</td>\n",
              "      <td>13</td>\n",
              "    </tr>\n",
              "    <tr>\n",
              "      <th>151819</th>\n",
              "      <td>549569</td>\n",
              "      <td>84978</td>\n",
              "      <td>hanging heart jar tlight holder</td>\n",
              "      <td>6</td>\n",
              "      <td>2011-04-10 15:15:00</td>\n",
              "      <td>1.25</td>\n",
              "      <td>15547.0</td>\n",
              "      <td>United Kingdom</td>\n",
              "      <td>4</td>\n",
              "      <td>2011</td>\n",
              "      <td>Sunday</td>\n",
              "      <td>2011-04-01</td>\n",
              "      <td>15</td>\n",
              "    </tr>\n",
              "    <tr>\n",
              "      <th>111031</th>\n",
              "      <td>545710</td>\n",
              "      <td>22254</td>\n",
              "      <td>felt toadstool large</td>\n",
              "      <td>12</td>\n",
              "      <td>2011-03-07 09:52:00</td>\n",
              "      <td>1.25</td>\n",
              "      <td>13117.0</td>\n",
              "      <td>United Kingdom</td>\n",
              "      <td>3</td>\n",
              "      <td>2011</td>\n",
              "      <td>Monday</td>\n",
              "      <td>2011-03-01</td>\n",
              "      <td>9</td>\n",
              "    </tr>\n",
              "  </tbody>\n",
              "</table>\n",
              "</div>\n",
              "      <button class=\"colab-df-convert\" onclick=\"convertToInteractive('df-2301332a-aa24-470a-8e71-91028769c4c5')\"\n",
              "              title=\"Convert this dataframe to an interactive table.\"\n",
              "              style=\"display:none;\">\n",
              "        \n",
              "  <svg xmlns=\"http://www.w3.org/2000/svg\" height=\"24px\"viewBox=\"0 0 24 24\"\n",
              "       width=\"24px\">\n",
              "    <path d=\"M0 0h24v24H0V0z\" fill=\"none\"/>\n",
              "    <path d=\"M18.56 5.44l.94 2.06.94-2.06 2.06-.94-2.06-.94-.94-2.06-.94 2.06-2.06.94zm-11 1L8.5 8.5l.94-2.06 2.06-.94-2.06-.94L8.5 2.5l-.94 2.06-2.06.94zm10 10l.94 2.06.94-2.06 2.06-.94-2.06-.94-.94-2.06-.94 2.06-2.06.94z\"/><path d=\"M17.41 7.96l-1.37-1.37c-.4-.4-.92-.59-1.43-.59-.52 0-1.04.2-1.43.59L10.3 9.45l-7.72 7.72c-.78.78-.78 2.05 0 2.83L4 21.41c.39.39.9.59 1.41.59.51 0 1.02-.2 1.41-.59l7.78-7.78 2.81-2.81c.8-.78.8-2.07 0-2.86zM5.41 20L4 18.59l7.72-7.72 1.47 1.35L5.41 20z\"/>\n",
              "  </svg>\n",
              "      </button>\n",
              "      \n",
              "  <style>\n",
              "    .colab-df-container {\n",
              "      display:flex;\n",
              "      flex-wrap:wrap;\n",
              "      gap: 12px;\n",
              "    }\n",
              "\n",
              "    .colab-df-convert {\n",
              "      background-color: #E8F0FE;\n",
              "      border: none;\n",
              "      border-radius: 50%;\n",
              "      cursor: pointer;\n",
              "      display: none;\n",
              "      fill: #1967D2;\n",
              "      height: 32px;\n",
              "      padding: 0 0 0 0;\n",
              "      width: 32px;\n",
              "    }\n",
              "\n",
              "    .colab-df-convert:hover {\n",
              "      background-color: #E2EBFA;\n",
              "      box-shadow: 0px 1px 2px rgba(60, 64, 67, 0.3), 0px 1px 3px 1px rgba(60, 64, 67, 0.15);\n",
              "      fill: #174EA6;\n",
              "    }\n",
              "\n",
              "    [theme=dark] .colab-df-convert {\n",
              "      background-color: #3B4455;\n",
              "      fill: #D2E3FC;\n",
              "    }\n",
              "\n",
              "    [theme=dark] .colab-df-convert:hover {\n",
              "      background-color: #434B5C;\n",
              "      box-shadow: 0px 1px 3px 1px rgba(0, 0, 0, 0.15);\n",
              "      filter: drop-shadow(0px 1px 2px rgba(0, 0, 0, 0.3));\n",
              "      fill: #FFFFFF;\n",
              "    }\n",
              "  </style>\n",
              "\n",
              "      <script>\n",
              "        const buttonEl =\n",
              "          document.querySelector('#df-2301332a-aa24-470a-8e71-91028769c4c5 button.colab-df-convert');\n",
              "        buttonEl.style.display =\n",
              "          google.colab.kernel.accessAllowed ? 'block' : 'none';\n",
              "\n",
              "        async function convertToInteractive(key) {\n",
              "          const element = document.querySelector('#df-2301332a-aa24-470a-8e71-91028769c4c5');\n",
              "          const dataTable =\n",
              "            await google.colab.kernel.invokeFunction('convertToInteractive',\n",
              "                                                     [key], {});\n",
              "          if (!dataTable) return;\n",
              "\n",
              "          const docLinkHtml = 'Like what you see? Visit the ' +\n",
              "            '<a target=\"_blank\" href=https://colab.research.google.com/notebooks/data_table.ipynb>data table notebook</a>'\n",
              "            + ' to learn more about interactive tables.';\n",
              "          element.innerHTML = '';\n",
              "          dataTable['output_type'] = 'display_data';\n",
              "          await google.colab.output.renderOutput(dataTable, element);\n",
              "          const docLink = document.createElement('div');\n",
              "          docLink.innerHTML = docLinkHtml;\n",
              "          element.appendChild(docLink);\n",
              "        }\n",
              "      </script>\n",
              "    </div>\n",
              "  </div>\n",
              "  "
            ]
          },
          "metadata": {},
          "execution_count": 33
        }
      ],
      "source": [
        "#Vemos la data.\n",
        "df.head()"
      ]
    },
    {
      "cell_type": "code",
      "execution_count": null,
      "metadata": {
        "id": "E4Zpd071a8A_"
      },
      "outputs": [],
      "source": [
        "#Agregamos la columna de UnitPrice\n",
        "df['revenue'] = df['UnitPrice'] * df['Quantity']"
      ]
    },
    {
      "cell_type": "code",
      "execution_count": null,
      "metadata": {
        "id": "zDkx8-BSa799"
      },
      "outputs": [],
      "source": [
        "#Atravez de una grafica se tiene la seccion de datos.\n",
        "plot = pd.DataFrame(df.groupby(['month_year'])['InvoiceNo'].count()).reset_index()\n",
        "plot2 = pd.DataFrame(df.groupby(['WeekDay'])['InvoiceNo'].count())\n",
        "plot3 = pd.DataFrame(df.groupby(['hour'])['InvoiceNo'].count()).reset_index()\n",
        "plot4 = pd.DataFrame(df.groupby(['month_year'])['revenue'].mean()).reset_index()\n",
        "plot5 = pd.DataFrame(df.groupby(['month_year'])['revenue'].sum()).reset_index()"
      ]
    },
    {
      "cell_type": "code",
      "execution_count": null,
      "metadata": {
        "id": "gW23Zy83a70t"
      },
      "outputs": [],
      "source": [
        "plot2 = plot2.reindex(['Monday', 'Tuesday', 'Wednesday', 'Thursday', 'Friday', 'Sunday']).reset_index()"
      ]
    },
    {
      "cell_type": "code",
      "execution_count": null,
      "metadata": {
        "id": "2A8rv_9abEK2",
        "colab": {
          "base_uri": "https://localhost:8080/",
          "height": 285
        },
        "outputId": "e05e647c-53b8-470d-ca59-5d8281d2ef31"
      },
      "outputs": [
        {
          "output_type": "display_data",
          "data": {
            "text/plain": [
              "<Figure size 432x288 with 1 Axes>"
            ],
            "image/png": "[encoded data removed]"
          },
          "metadata": {
            "needs_background": "light"
          }
        }
      ],
      "source": [
        "#A traves de una grafica se obtiene, la informacion de cual mes es la cuspide.\n",
        "ax = sns.lineplot(x=\"month_year\", y=\"InvoiceNo\", data = plot)\n",
        "#Se observa que es el mes de Noviembre."
      ]
    },
    {
      "cell_type": "code",
      "execution_count": null,
      "metadata": {
        "id": "1Im8TolzbEG8",
        "colab": {
          "base_uri": "https://localhost:8080/",
          "height": 285
        },
        "outputId": "c6a153de-f83e-4b60-f039-0b42a010b941"
      },
      "outputs": [
        {
          "output_type": "display_data",
          "data": {
            "text/plain": [
              "<Figure size 432x288 with 1 Axes>"
            ],
            "image/png": "[encoded data removed]"
          },
          "metadata": {
            "needs_background": "light"
          }
        }
      ],
      "source": [
        "#Veamos cual dia es el que tiene mayor demanda.\n",
        "ax = sns.barplot(x=\"WeekDay\", y=\"InvoiceNo\", data = plot2)\n",
        "#Vemos que Jueves es el dia con mayor demanda."
      ]
    },
    {
      "cell_type": "code",
      "execution_count": null,
      "metadata": {
        "id": "P1987pv_bEDe",
        "colab": {
          "base_uri": "https://localhost:8080/",
          "height": 285
        },
        "outputId": "3c60ca56-4a3f-43fe-a409-044761afc5c4"
      },
      "outputs": [
        {
          "output_type": "display_data",
          "data": {
            "text/plain": [
              "<Figure size 432x288 with 1 Axes>"
            ],
            "image/png": "[encoded data removed]"
          },
          "metadata": {
            "needs_background": "light"
          }
        }
      ],
      "source": [
        "#Veamos la hora critica en las horas del dia.\n",
        "ax = sns.barplot(x=\"hour\", y=\"InvoiceNo\", data = plot3)\n",
        "#La mayor demanda se encuentra a las 12 pm."
      ]
    },
    {
      "cell_type": "code",
      "execution_count": null,
      "metadata": {
        "id": "JFEDWISIbEAn",
        "colab": {
          "base_uri": "https://localhost:8080/",
          "height": 285
        },
        "outputId": "f2a0e063-fc27-47b7-df15-758807329c71"
      },
      "outputs": [
        {
          "output_type": "display_data",
          "data": {
            "text/plain": [
              "<Figure size 432x288 with 1 Axes>"
            ],
            "image/png": "[encoded data removed]"
          },
          "metadata": {
            "needs_background": "light"
          }
        }
      ],
      "source": [
        "#Veamos que mes es donde las personas viajan mas y genera mas ingresos.\n",
        "ax = sns.lineplot(x = 'month_year', y='revenue', data = plot5)\n",
        "#Vemos que es el mes de noviembre."
      ]
    },
    {
      "cell_type": "markdown",
      "metadata": {
        "id": "4dipyFBoWGqL"
      },
      "source": [
        "3.   Precios.\n",
        "\n"
      ]
    },
    {
      "cell_type": "code",
      "execution_count": null,
      "metadata": {
        "id": "zN8Ug4ilbD91",
        "colab": {
          "base_uri": "https://localhost:8080/",
          "height": 300
        },
        "outputId": "012baf8c-5746-4c5a-d3a2-32a8a07ebad2"
      },
      "outputs": [
        {
          "output_type": "execute_result",
          "data": {
            "text/plain": [
              "          UnitPrice\n",
              "count  79060.000000\n",
              "mean       2.864673\n",
              "std        3.891388\n",
              "min        0.040000\n",
              "25%        1.250000\n",
              "50%        1.850000\n",
              "75%        3.750000\n",
              "max      295.000000"
            ],
            "text/html": [
              "\n",
              "  <div id=\"df-87d6c4d0-b25d-4521-a80f-26677f6d4dfc\">\n",
              "    <div class=\"colab-df-container\">\n",
              "      <div>\n",
              "<style scoped>\n",
              "    .dataframe tbody tr th:only-of-type {\n",
              "        vertical-align: middle;\n",
              "    }\n",
              "\n",
              "    .dataframe tbody tr th {\n",
              "        vertical-align: top;\n",
              "    }\n",
              "\n",
              "    .dataframe thead th {\n",
              "        text-align: right;\n",
              "    }\n",
              "</style>\n",
              "<table border=\"1\" class=\"dataframe\">\n",
              "  <thead>\n",
              "    <tr style=\"text-align: right;\">\n",
              "      <th></th>\n",
              "      <th>UnitPrice</th>\n",
              "    </tr>\n",
              "  </thead>\n",
              "  <tbody>\n",
              "    <tr>\n",
              "      <th>count</th>\n",
              "      <td>79060.000000</td>\n",
              "    </tr>\n",
              "    <tr>\n",
              "      <th>mean</th>\n",
              "      <td>2.864673</td>\n",
              "    </tr>\n",
              "    <tr>\n",
              "      <th>std</th>\n",
              "      <td>3.891388</td>\n",
              "    </tr>\n",
              "    <tr>\n",
              "      <th>min</th>\n",
              "      <td>0.040000</td>\n",
              "    </tr>\n",
              "    <tr>\n",
              "      <th>25%</th>\n",
              "      <td>1.250000</td>\n",
              "    </tr>\n",
              "    <tr>\n",
              "      <th>50%</th>\n",
              "      <td>1.850000</td>\n",
              "    </tr>\n",
              "    <tr>\n",
              "      <th>75%</th>\n",
              "      <td>3.750000</td>\n",
              "    </tr>\n",
              "    <tr>\n",
              "      <th>max</th>\n",
              "      <td>295.000000</td>\n",
              "    </tr>\n",
              "  </tbody>\n",
              "</table>\n",
              "</div>\n",
              "      <button class=\"colab-df-convert\" onclick=\"convertToInteractive('df-87d6c4d0-b25d-4521-a80f-26677f6d4dfc')\"\n",
              "              title=\"Convert this dataframe to an interactive table.\"\n",
              "              style=\"display:none;\">\n",
              "        \n",
              "  <svg xmlns=\"http://www.w3.org/2000/svg\" height=\"24px\"viewBox=\"0 0 24 24\"\n",
              "       width=\"24px\">\n",
              "    <path d=\"M0 0h24v24H0V0z\" fill=\"none\"/>\n",
              "    <path d=\"M18.56 5.44l.94 2.06.94-2.06 2.06-.94-2.06-.94-.94-2.06-.94 2.06-2.06.94zm-11 1L8.5 8.5l.94-2.06 2.06-.94-2.06-.94L8.5 2.5l-.94 2.06-2.06.94zm10 10l.94 2.06.94-2.06 2.06-.94-2.06-.94-.94-2.06-.94 2.06-2.06.94z\"/><path d=\"M17.41 7.96l-1.37-1.37c-.4-.4-.92-.59-1.43-.59-.52 0-1.04.2-1.43.59L10.3 9.45l-7.72 7.72c-.78.78-.78 2.05 0 2.83L4 21.41c.39.39.9.59 1.41.59.51 0 1.02-.2 1.41-.59l7.78-7.78 2.81-2.81c.8-.78.8-2.07 0-2.86zM5.41 20L4 18.59l7.72-7.72 1.47 1.35L5.41 20z\"/>\n",
              "  </svg>\n",
              "      </button>\n",
              "      \n",
              "  <style>\n",
              "    .colab-df-container {\n",
              "      display:flex;\n",
              "      flex-wrap:wrap;\n",
              "      gap: 12px;\n",
              "    }\n",
              "\n",
              "    .colab-df-convert {\n",
              "      background-color: #E8F0FE;\n",
              "      border: none;\n",
              "      border-radius: 50%;\n",
              "      cursor: pointer;\n",
              "      display: none;\n",
              "      fill: #1967D2;\n",
              "      height: 32px;\n",
              "      padding: 0 0 0 0;\n",
              "      width: 32px;\n",
              "    }\n",
              "\n",
              "    .colab-df-convert:hover {\n",
              "      background-color: #E2EBFA;\n",
              "      box-shadow: 0px 1px 2px rgba(60, 64, 67, 0.3), 0px 1px 3px 1px rgba(60, 64, 67, 0.15);\n",
              "      fill: #174EA6;\n",
              "    }\n",
              "\n",
              "    [theme=dark] .colab-df-convert {\n",
              "      background-color: #3B4455;\n",
              "      fill: #D2E3FC;\n",
              "    }\n",
              "\n",
              "    [theme=dark] .colab-df-convert:hover {\n",
              "      background-color: #434B5C;\n",
              "      box-shadow: 0px 1px 3px 1px rgba(0, 0, 0, 0.15);\n",
              "      filter: drop-shadow(0px 1px 2px rgba(0, 0, 0, 0.3));\n",
              "      fill: #FFFFFF;\n",
              "    }\n",
              "  </style>\n",
              "\n",
              "      <script>\n",
              "        const buttonEl =\n",
              "          document.querySelector('#df-87d6c4d0-b25d-4521-a80f-26677f6d4dfc button.colab-df-convert');\n",
              "        buttonEl.style.display =\n",
              "          google.colab.kernel.accessAllowed ? 'block' : 'none';\n",
              "\n",
              "        async function convertToInteractive(key) {\n",
              "          const element = document.querySelector('#df-87d6c4d0-b25d-4521-a80f-26677f6d4dfc');\n",
              "          const dataTable =\n",
              "            await google.colab.kernel.invokeFunction('convertToInteractive',\n",
              "                                                     [key], {});\n",
              "          if (!dataTable) return;\n",
              "\n",
              "          const docLinkHtml = 'Like what you see? Visit the ' +\n",
              "            '<a target=\"_blank\" href=https://colab.research.google.com/notebooks/data_table.ipynb>data table notebook</a>'\n",
              "            + ' to learn more about interactive tables.';\n",
              "          element.innerHTML = '';\n",
              "          dataTable['output_type'] = 'display_data';\n",
              "          await google.colab.output.renderOutput(dataTable, element);\n",
              "          const docLink = document.createElement('div');\n",
              "          docLink.innerHTML = docLinkHtml;\n",
              "          element.appendChild(docLink);\n",
              "        }\n",
              "      </script>\n",
              "    </div>\n",
              "  </div>\n",
              "  "
            ]
          },
          "metadata": {},
          "execution_count": 41
        }
      ],
      "source": [
        "pd.DataFrame(df['UnitPrice'].describe())"
      ]
    },
    {
      "cell_type": "code",
      "execution_count": null,
      "metadata": {
        "id": "aICHe9pvbD7O",
        "colab": {
          "base_uri": "https://localhost:8080/"
        },
        "outputId": "a8a502c5-ece0-4277-919f-7d91133e2001"
      },
      "outputs": [
        {
          "output_type": "execute_result",
          "data": {
            "text/plain": [
              "['love seat antique white metal',\n",
              " 'rustic  seventeen drawer sideboard',\n",
              " 'vintage blue kitchen cabinet',\n",
              " 'school desk and chair ',\n",
              " 'decorative hanging shelving unit',\n",
              " 'regency mirror with shutters',\n",
              " 'chest natural wood 20 drawers',\n",
              " 'vintage red kitchen cabinet']"
            ]
          },
          "metadata": {},
          "execution_count": 42
        }
      ],
      "source": [
        "#Veamos los datos y verifiquemos cuales fueron las ventas mayores a 50.\n",
        "df[df['UnitPrice']>50]['Description'].unique().tolist()"
      ]
    },
    {
      "cell_type": "code",
      "execution_count": null,
      "metadata": {
        "id": "SosERzN5bD5I",
        "colab": {
          "base_uri": "https://localhost:8080/",
          "height": 287
        },
        "outputId": "f4c40cff-87a8-425b-9acd-1e408b32c800"
      },
      "outputs": [
        {
          "output_type": "display_data",
          "data": {
            "text/plain": [
              "<Figure size 432x288 with 1 Axes>"
            ],
            "image/png": "[encoded data removed]"
          },
          "metadata": {
            "needs_background": "light"
          }
        }
      ],
      "source": [
        "#Veamos como se comporta los bienes costosos.\n",
        "sns.distplot(df[df['UnitPrice']>50]['UnitPrice'], kde=False, rug=True);"
      ]
    },
    {
      "cell_type": "markdown",
      "metadata": {
        "id": "eTQK6-f7WwwO"
      },
      "source": [
        "4.   Visualizacion de los paises con mayor transaccion. \n",
        "\n"
      ]
    },
    {
      "cell_type": "code",
      "execution_count": null,
      "metadata": {
        "id": "2drBDbh3bD2Z",
        "colab": {
          "base_uri": "https://localhost:8080/",
          "height": 1000
        },
        "outputId": "60a55f14-45e8-4760-c74b-ee4c310543ef"
      },
      "outputs": [
        {
          "output_type": "execute_result",
          "data": {
            "text/plain": [
              "                 Country  CustomerID\n",
              "35        United Kingdom        3679\n",
              "14               Germany          93\n",
              "13                France          83\n",
              "30                 Spain          29\n",
              "3                Belgium          24\n",
              "32           Switzerland          21\n",
              "26              Portugal          19\n",
              "18                 Italy          14\n",
              "12               Finland          11\n",
              "24                Norway          10\n",
              "1                Austria          10\n",
              "0              Australia           9\n",
              "6        Channel Islands           9\n",
              "23           Netherlands           8\n",
              "9                Denmark           8\n",
              "31                Sweden           8\n",
              "19                 Japan           8\n",
              "7                 Cyprus           7\n",
              "25                Poland           5\n",
              "33                   USA           4\n",
              "36           Unspecified           4\n",
              "15                Greece           4\n",
              "10                  EIRE           3\n",
              "17                Israel           3\n",
              "22                 Malta           2\n",
              "5                 Canada           2\n",
              "34  United Arab Emirates           2\n",
              "2                Bahrain           2\n",
              "21             Lithuania           1\n",
              "20               Lebanon           1\n",
              "8         Czech Republic           1\n",
              "27                   RSA           1\n",
              "28          Saudi Arabia           1\n",
              "29             Singapore           1\n",
              "16               Iceland           1\n",
              "4                 Brazil           1\n",
              "11    European Community           1"
            ],
            "text/html": [
              "\n",
              "  <div id=\"df-30e54752-4624-4908-83c2-1c2b3e8aebc4\">\n",
              "    <div class=\"colab-df-container\">\n",
              "      <div>\n",
              "<style scoped>\n",
              "    .dataframe tbody tr th:only-of-type {\n",
              "        vertical-align: middle;\n",
              "    }\n",
              "\n",
              "    .dataframe tbody tr th {\n",
              "        vertical-align: top;\n",
              "    }\n",
              "\n",
              "    .dataframe thead th {\n",
              "        text-align: right;\n",
              "    }\n",
              "</style>\n",
              "<table border=\"1\" class=\"dataframe\">\n",
              "  <thead>\n",
              "    <tr style=\"text-align: right;\">\n",
              "      <th></th>\n",
              "      <th>Country</th>\n",
              "      <th>CustomerID</th>\n",
              "    </tr>\n",
              "  </thead>\n",
              "  <tbody>\n",
              "    <tr>\n",
              "      <th>35</th>\n",
              "      <td>United Kingdom</td>\n",
              "      <td>3679</td>\n",
              "    </tr>\n",
              "    <tr>\n",
              "      <th>14</th>\n",
              "      <td>Germany</td>\n",
              "      <td>93</td>\n",
              "    </tr>\n",
              "    <tr>\n",
              "      <th>13</th>\n",
              "      <td>France</td>\n",
              "      <td>83</td>\n",
              "    </tr>\n",
              "    <tr>\n",
              "      <th>30</th>\n",
              "      <td>Spain</td>\n",
              "      <td>29</td>\n",
              "    </tr>\n",
              "    <tr>\n",
              "      <th>3</th>\n",
              "      <td>Belgium</td>\n",
              "      <td>24</td>\n",
              "    </tr>\n",
              "    <tr>\n",
              "      <th>32</th>\n",
              "      <td>Switzerland</td>\n",
              "      <td>21</td>\n",
              "    </tr>\n",
              "    <tr>\n",
              "      <th>26</th>\n",
              "      <td>Portugal</td>\n",
              "      <td>19</td>\n",
              "    </tr>\n",
              "    <tr>\n",
              "      <th>18</th>\n",
              "      <td>Italy</td>\n",
              "      <td>14</td>\n",
              "    </tr>\n",
              "    <tr>\n",
              "      <th>12</th>\n",
              "      <td>Finland</td>\n",
              "      <td>11</td>\n",
              "    </tr>\n",
              "    <tr>\n",
              "      <th>24</th>\n",
              "      <td>Norway</td>\n",
              "      <td>10</td>\n",
              "    </tr>\n",
              "    <tr>\n",
              "      <th>1</th>\n",
              "      <td>Austria</td>\n",
              "      <td>10</td>\n",
              "    </tr>\n",
              "    <tr>\n",
              "      <th>0</th>\n",
              "      <td>Australia</td>\n",
              "      <td>9</td>\n",
              "    </tr>\n",
              "    <tr>\n",
              "      <th>6</th>\n",
              "      <td>Channel Islands</td>\n",
              "      <td>9</td>\n",
              "    </tr>\n",
              "    <tr>\n",
              "      <th>23</th>\n",
              "      <td>Netherlands</td>\n",
              "      <td>8</td>\n",
              "    </tr>\n",
              "    <tr>\n",
              "      <th>9</th>\n",
              "      <td>Denmark</td>\n",
              "      <td>8</td>\n",
              "    </tr>\n",
              "    <tr>\n",
              "      <th>31</th>\n",
              "      <td>Sweden</td>\n",
              "      <td>8</td>\n",
              "    </tr>\n",
              "    <tr>\n",
              "      <th>19</th>\n",
              "      <td>Japan</td>\n",
              "      <td>8</td>\n",
              "    </tr>\n",
              "    <tr>\n",
              "      <th>7</th>\n",
              "      <td>Cyprus</td>\n",
              "      <td>7</td>\n",
              "    </tr>\n",
              "    <tr>\n",
              "      <th>25</th>\n",
              "      <td>Poland</td>\n",
              "      <td>5</td>\n",
              "    </tr>\n",
              "    <tr>\n",
              "      <th>33</th>\n",
              "      <td>USA</td>\n",
              "      <td>4</td>\n",
              "    </tr>\n",
              "    <tr>\n",
              "      <th>36</th>\n",
              "      <td>Unspecified</td>\n",
              "      <td>4</td>\n",
              "    </tr>\n",
              "    <tr>\n",
              "      <th>15</th>\n",
              "      <td>Greece</td>\n",
              "      <td>4</td>\n",
              "    </tr>\n",
              "    <tr>\n",
              "      <th>10</th>\n",
              "      <td>EIRE</td>\n",
              "      <td>3</td>\n",
              "    </tr>\n",
              "    <tr>\n",
              "      <th>17</th>\n",
              "      <td>Israel</td>\n",
              "      <td>3</td>\n",
              "    </tr>\n",
              "    <tr>\n",
              "      <th>22</th>\n",
              "      <td>Malta</td>\n",
              "      <td>2</td>\n",
              "    </tr>\n",
              "    <tr>\n",
              "      <th>5</th>\n",
              "      <td>Canada</td>\n",
              "      <td>2</td>\n",
              "    </tr>\n",
              "    <tr>\n",
              "      <th>34</th>\n",
              "      <td>United Arab Emirates</td>\n",
              "      <td>2</td>\n",
              "    </tr>\n",
              "    <tr>\n",
              "      <th>2</th>\n",
              "      <td>Bahrain</td>\n",
              "      <td>2</td>\n",
              "    </tr>\n",
              "    <tr>\n",
              "      <th>21</th>\n",
              "      <td>Lithuania</td>\n",
              "      <td>1</td>\n",
              "    </tr>\n",
              "    <tr>\n",
              "      <th>20</th>\n",
              "      <td>Lebanon</td>\n",
              "      <td>1</td>\n",
              "    </tr>\n",
              "    <tr>\n",
              "      <th>8</th>\n",
              "      <td>Czech Republic</td>\n",
              "      <td>1</td>\n",
              "    </tr>\n",
              "    <tr>\n",
              "      <th>27</th>\n",
              "      <td>RSA</td>\n",
              "      <td>1</td>\n",
              "    </tr>\n",
              "    <tr>\n",
              "      <th>28</th>\n",
              "      <td>Saudi Arabia</td>\n",
              "      <td>1</td>\n",
              "    </tr>\n",
              "    <tr>\n",
              "      <th>29</th>\n",
              "      <td>Singapore</td>\n",
              "      <td>1</td>\n",
              "    </tr>\n",
              "    <tr>\n",
              "      <th>16</th>\n",
              "      <td>Iceland</td>\n",
              "      <td>1</td>\n",
              "    </tr>\n",
              "    <tr>\n",
              "      <th>4</th>\n",
              "      <td>Brazil</td>\n",
              "      <td>1</td>\n",
              "    </tr>\n",
              "    <tr>\n",
              "      <th>11</th>\n",
              "      <td>European Community</td>\n",
              "      <td>1</td>\n",
              "    </tr>\n",
              "  </tbody>\n",
              "</table>\n",
              "</div>\n",
              "      <button class=\"colab-df-convert\" onclick=\"convertToInteractive('df-30e54752-4624-4908-83c2-1c2b3e8aebc4')\"\n",
              "              title=\"Convert this dataframe to an interactive table.\"\n",
              "              style=\"display:none;\">\n",
              "        \n",
              "  <svg xmlns=\"http://www.w3.org/2000/svg\" height=\"24px\"viewBox=\"0 0 24 24\"\n",
              "       width=\"24px\">\n",
              "    <path d=\"M0 0h24v24H0V0z\" fill=\"none\"/>\n",
              "    <path d=\"M18.56 5.44l.94 2.06.94-2.06 2.06-.94-2.06-.94-.94-2.06-.94 2.06-2.06.94zm-11 1L8.5 8.5l.94-2.06 2.06-.94-2.06-.94L8.5 2.5l-.94 2.06-2.06.94zm10 10l.94 2.06.94-2.06 2.06-.94-2.06-.94-.94-2.06-.94 2.06-2.06.94z\"/><path d=\"M17.41 7.96l-1.37-1.37c-.4-.4-.92-.59-1.43-.59-.52 0-1.04.2-1.43.59L10.3 9.45l-7.72 7.72c-.78.78-.78 2.05 0 2.83L4 21.41c.39.39.9.59 1.41.59.51 0 1.02-.2 1.41-.59l7.78-7.78 2.81-2.81c.8-.78.8-2.07 0-2.86zM5.41 20L4 18.59l7.72-7.72 1.47 1.35L5.41 20z\"/>\n",
              "  </svg>\n",
              "      </button>\n",
              "      \n",
              "  <style>\n",
              "    .colab-df-container {\n",
              "      display:flex;\n",
              "      flex-wrap:wrap;\n",
              "      gap: 12px;\n",
              "    }\n",
              "\n",
              "    .colab-df-convert {\n",
              "      background-color: #E8F0FE;\n",
              "      border: none;\n",
              "      border-radius: 50%;\n",
              "      cursor: pointer;\n",
              "      display: none;\n",
              "      fill: #1967D2;\n",
              "      height: 32px;\n",
              "      padding: 0 0 0 0;\n",
              "      width: 32px;\n",
              "    }\n",
              "\n",
              "    .colab-df-convert:hover {\n",
              "      background-color: #E2EBFA;\n",
              "      box-shadow: 0px 1px 2px rgba(60, 64, 67, 0.3), 0px 1px 3px 1px rgba(60, 64, 67, 0.15);\n",
              "      fill: #174EA6;\n",
              "    }\n",
              "\n",
              "    [theme=dark] .colab-df-convert {\n",
              "      background-color: #3B4455;\n",
              "      fill: #D2E3FC;\n",
              "    }\n",
              "\n",
              "    [theme=dark] .colab-df-convert:hover {\n",
              "      background-color: #434B5C;\n",
              "      box-shadow: 0px 1px 3px 1px rgba(0, 0, 0, 0.15);\n",
              "      filter: drop-shadow(0px 1px 2px rgba(0, 0, 0, 0.3));\n",
              "      fill: #FFFFFF;\n",
              "    }\n",
              "  </style>\n",
              "\n",
              "      <script>\n",
              "        const buttonEl =\n",
              "          document.querySelector('#df-30e54752-4624-4908-83c2-1c2b3e8aebc4 button.colab-df-convert');\n",
              "        buttonEl.style.display =\n",
              "          google.colab.kernel.accessAllowed ? 'block' : 'none';\n",
              "\n",
              "        async function convertToInteractive(key) {\n",
              "          const element = document.querySelector('#df-30e54752-4624-4908-83c2-1c2b3e8aebc4');\n",
              "          const dataTable =\n",
              "            await google.colab.kernel.invokeFunction('convertToInteractive',\n",
              "                                                     [key], {});\n",
              "          if (!dataTable) return;\n",
              "\n",
              "          const docLinkHtml = 'Like what you see? Visit the ' +\n",
              "            '<a target=\"_blank\" href=https://colab.research.google.com/notebooks/data_table.ipynb>data table notebook</a>'\n",
              "            + ' to learn more about interactive tables.';\n",
              "          element.innerHTML = '';\n",
              "          dataTable['output_type'] = 'display_data';\n",
              "          await google.colab.output.renderOutput(dataTable, element);\n",
              "          const docLink = document.createElement('div');\n",
              "          docLink.innerHTML = docLinkHtml;\n",
              "          element.appendChild(docLink);\n",
              "        }\n",
              "      </script>\n",
              "    </div>\n",
              "  </div>\n",
              "  "
            ]
          },
          "metadata": {},
          "execution_count": 44
        }
      ],
      "source": [
        "customer_country=df[['Country','CustomerID']].drop_duplicates()\n",
        "customer_country.groupby(['Country'])['CustomerID'].aggregate('count').reset_index().sort_values('CustomerID', ascending=False)"
      ]
    },
    {
      "cell_type": "code",
      "execution_count": null,
      "metadata": {
        "id": "2xUJ_g1ebD0K",
        "colab": {
          "base_uri": "https://localhost:8080/"
        },
        "outputId": "9fb3c1f0-01b9-41fa-de82-0f116cf023d9"
      },
      "outputs": [
        {
          "output_type": "stream",
          "name": "stdout",
          "text": [
            "Las transacciones se realizaron en 37 paises diferentes\n"
          ]
        }
      ],
      "source": [
        "print(\"Las transacciones se realizaron en\", len(df['Country'].unique().tolist()), \"paises diferentes\")"
      ]
    },
    {
      "cell_type": "code",
      "execution_count": null,
      "metadata": {
        "id": "HtbHk_NbbDxs",
        "colab": {
          "base_uri": "https://localhost:8080/"
        },
        "outputId": "f67b6aef-5c51-4ccb-f480-691a70294653"
      },
      "outputs": [
        {
          "output_type": "stream",
          "name": "stdout",
          "text": [
            "Número de transacciones en las que no se especifica el país: 52\n"
          ]
        }
      ],
      "source": [
        "print(\"Número de transacciones en las que no se especifica el país:\", len(df[df['Country']=='Unspecified']))"
      ]
    },
    {
      "cell_type": "code",
      "execution_count": null,
      "metadata": {
        "id": "V5UUD1kcbDvP"
      },
      "outputs": [],
      "source": [
        "plot6 = pd.DataFrame(df.groupby(['Country'])['revenue'].sum()).reset_index()\n",
        "plot6 = plot6.sort_values(['revenue']).reset_index(drop=True)\n",
        "plot7 = pd.DataFrame(df.groupby(['Country'])['revenue'].count()).reset_index()\n",
        "plot7 = plot7.sort_values(['revenue']).reset_index(drop=True)"
      ]
    },
    {
      "cell_type": "code",
      "execution_count": null,
      "metadata": {
        "id": "pL9F3cz-bb54",
        "colab": {
          "base_uri": "https://localhost:8080/",
          "height": 466
        },
        "outputId": "b703cfba-c0a9-44ef-b767-bd377a280150"
      },
      "outputs": [
        {
          "output_type": "display_data",
          "data": {
            "text/plain": [
              "<Figure size 720x432 with 1 Axes>"
            ],
            "image/png": "[encoded data removed]"
          },
          "metadata": {
            "needs_background": "light"
          }
        }
      ],
      "source": [
        "%matplotlib inline\n",
        "fig, ax = plt.subplots()\n",
        "fig.set_size_inches(10, 6)\n",
        "ax=sns.barplot(x='Country', y='revenue',data=plot6.tail(10),estimator=max,ax=ax)\n",
        "ax.set_xticklabels(ax.get_xticklabels(), rotation=47, ha=\"right\")\n",
        "plt.show()\n",
        "#Vemos que por la grafica que Reino unido es el que tiene mas ventas."
      ]
    },
    {
      "cell_type": "code",
      "execution_count": null,
      "metadata": {
        "id": "IwTd7Vmjbb3N",
        "colab": {
          "base_uri": "https://localhost:8080/",
          "height": 455
        },
        "outputId": "fc2b22f4-826e-4e73-a2d8-66ee28c7898f"
      },
      "outputs": [
        {
          "output_type": "display_data",
          "data": {
            "text/plain": [
              "<Figure size 720x432 with 1 Axes>"
            ],
            "image/png": "[encoded data removed]"
          },
          "metadata": {
            "needs_background": "light"
          }
        }
      ],
      "source": [
        "%matplotlib inline\n",
        "fig, ax = plt.subplots()\n",
        "fig.set_size_inches(10, 6)\n",
        "ax=sns.barplot(x='Country', y='revenue',data=plot7.tail(10),estimator=max,ax=ax)\n",
        "ax.set_xticklabels(ax.get_xticklabels(), rotation=47, ha=\"right\")\n",
        "plt.show()\n",
        "#Reino unido es el mayor proveedor de ventas por lo cual es el pais con mas numero de pedidos."
      ]
    },
    {
      "cell_type": "markdown",
      "metadata": {
        "id": "4fYnJn0_bqDf"
      },
      "source": [
        "#Analisis"
      ]
    },
    {
      "cell_type": "code",
      "execution_count": null,
      "metadata": {
        "id": "pRiMnjhXcMWP",
        "colab": {
          "base_uri": "https://localhost:8080/"
        },
        "outputId": "b91fe103-641a-4c2b-ceaa-726fa9ec8cc9"
      },
      "outputs": [
        {
          "output_type": "stream",
          "name": "stdout",
          "text": [
            "<class 'pandas.core.frame.DataFrame'>\n",
            "Int64Index: 79060 entries, 215110 to 429182\n",
            "Data columns (total 14 columns):\n",
            " #   Column       Non-Null Count  Dtype         \n",
            "---  ------       --------------  -----         \n",
            " 0   InvoiceNo    79060 non-null  object        \n",
            " 1   StockCode    79060 non-null  object        \n",
            " 2   Description  79060 non-null  object        \n",
            " 3   Quantity     79060 non-null  int64         \n",
            " 4   InvoiceDate  79060 non-null  datetime64[ns]\n",
            " 5   UnitPrice    79060 non-null  float64       \n",
            " 6   CustomerID   79060 non-null  float64       \n",
            " 7   Country      79060 non-null  object        \n",
            " 8   month        79060 non-null  int64         \n",
            " 9   year         79060 non-null  int64         \n",
            " 10  WeekDay      79060 non-null  object        \n",
            " 11  month_year   79060 non-null  datetime64[ns]\n",
            " 12  hour         79060 non-null  int64         \n",
            " 13  revenue      79060 non-null  float64       \n",
            "dtypes: datetime64[ns](2), float64(3), int64(4), object(5)\n",
            "memory usage: 9.0+ MB\n"
          ]
        }
      ],
      "source": [
        "df.info()"
      ]
    },
    {
      "cell_type": "code",
      "execution_count": null,
      "metadata": {
        "id": "aBHivgu0MiVx"
      },
      "outputs": [],
      "source": [
        "#Eliminamos las columnas siguientes que no seran necesarias para es el estudio del dataframe\n",
        "df = df.drop([\"InvoiceNo\", \"month_year\", \"StockCode\", \"InvoiceDate\", \"revenue\" ], axis = 1 )"
      ]
    },
    {
      "cell_type": "code",
      "execution_count": null,
      "metadata": {
        "id": "1ENX9I3fOUeg",
        "colab": {
          "base_uri": "https://localhost:8080/"
        },
        "outputId": "935a2a65-b374-49e3-d898-99eac04507e5"
      },
      "outputs": [
        {
          "output_type": "stream",
          "name": "stdout",
          "text": [
            "<class 'pandas.core.frame.DataFrame'>\n",
            "Int64Index: 79060 entries, 215110 to 429182\n",
            "Data columns (total 9 columns):\n",
            " #   Column       Non-Null Count  Dtype  \n",
            "---  ------       --------------  -----  \n",
            " 0   Description  79060 non-null  object \n",
            " 1   Quantity     79060 non-null  int64  \n",
            " 2   UnitPrice    79060 non-null  float64\n",
            " 3   CustomerID   79060 non-null  float64\n",
            " 4   Country      79060 non-null  object \n",
            " 5   month        79060 non-null  int64  \n",
            " 6   year         79060 non-null  int64  \n",
            " 7   WeekDay      79060 non-null  object \n",
            " 8   hour         79060 non-null  int64  \n",
            "dtypes: float64(2), int64(4), object(3)\n",
            "memory usage: 6.0+ MB\n"
          ]
        }
      ],
      "source": [
        "#Verificamos sí se eliminaron las columnas\n",
        "df.info()"
      ]
    },
    {
      "cell_type": "code",
      "execution_count": null,
      "metadata": {
        "id": "Nm_kkKrvUNZq"
      },
      "outputs": [],
      "source": [
        "# function to create dummy variables\n",
        "def dummy_creation(df, columns_list):\n",
        "    df_dummies = []\n",
        "    for col in columns_list:\n",
        "        df_dummies.append(pd.get_dummies(df[col], prefix = col, prefix_sep = ':'))\n",
        "    df_dummies = pd.concat(df_dummies, axis = 1)\n",
        "    df = pd.concat([df, df_dummies], axis = 1)\n",
        "    return df"
      ]
    },
    {
      "cell_type": "code",
      "execution_count": null,
      "metadata": {
        "id": "YaZk9FNPUWmS"
      },
      "outputs": [],
      "source": [
        "# apply to our final four categorical variables\n",
        "df = dummy_creation(df, ['Description', 'Country', 'WeekDay'])"
      ]
    },
    {
      "cell_type": "code",
      "execution_count": null,
      "metadata": {
        "id": "IUDpR27VXYY7"
      },
      "outputs": [],
      "source": [
        "#data.dtype()"
      ]
    },
    {
      "cell_type": "code",
      "execution_count": null,
      "metadata": {
        "id": "R0DhzO-JY5L3"
      },
      "outputs": [],
      "source": [
        "#Eliminamos las columnas siguientes que no seran necesarias para es el estudio del dataframe\n",
        "df = df.drop(['Description', 'Country', 'WeekDay'], axis = 1 )"
      ]
    },
    {
      "cell_type": "code",
      "execution_count": null,
      "metadata": {
        "id": "OCp_kRFIZKvx",
        "colab": {
          "base_uri": "https://localhost:8080/"
        },
        "outputId": "54383029-8f00-4aa1-de2a-7bf9312b098b"
      },
      "outputs": [
        {
          "output_type": "stream",
          "name": "stdout",
          "text": [
            "Quantity               int64\n",
            "UnitPrice            float64\n",
            "CustomerID           float64\n",
            "month                  int64\n",
            "year                   int64\n",
            "                      ...   \n",
            "WeekDay:Monday         uint8\n",
            "WeekDay:Sunday         uint8\n",
            "WeekDay:Thursday       uint8\n",
            "WeekDay:Tuesday        uint8\n",
            "WeekDay:Wednesday      uint8\n",
            "Length: 3454, dtype: object\n"
          ]
        }
      ],
      "source": [
        "print(df.dtypes)"
      ]
    },
    {
      "cell_type": "code",
      "execution_count": null,
      "metadata": {
        "id": "UKqSo2iocWJk"
      },
      "outputs": [],
      "source": [
        "# Clase model_selection : funcion train_test_split\n",
        "from sklearn.model_selection import train_test_split\n",
        "# Submodulo metrics : Varios indicadores de calidad \n",
        "from sklearn import metrics\n",
        "#Clase model_selection : funcion train_test_split\n",
        "from sklearn.model_selection import train_test_split\n",
        "# Clase linear_model : funcion LinearRegression\n",
        "from sklearn.linear_model import LinearRegression"
      ]
    },
    {
      "cell_type": "code",
      "execution_count": null,
      "metadata": {
        "id": "u5dE04J1a3l7"
      },
      "outputs": [],
      "source": [
        "X = df.drop([\"Quantity\"], axis = 1 )\n",
        "y = df.Quantity"
      ]
    },
    {
      "cell_type": "code",
      "execution_count": null,
      "metadata": {
        "id": "QhHw7HRnchwc",
        "colab": {
          "base_uri": "https://localhost:8080/"
        },
        "outputId": "bcc1e437-8627-4de0-bd93-d4ee67e47ec8"
      },
      "outputs": [
        {
          "output_type": "execute_result",
          "data": {
            "text/plain": [
              "(79060,)"
            ]
          },
          "metadata": {},
          "execution_count": 60
        }
      ],
      "source": [
        "y.shape"
      ]
    },
    {
      "cell_type": "code",
      "execution_count": null,
      "metadata": {
        "id": "iGJN2USkcJVo"
      },
      "outputs": [],
      "source": [
        "X_train , X_test, y_train, y_test = train_test_split(X, # Dataframe con las variables independientes\n",
        "                                                   y, # Un dato de tipo Series : variable dependiente\n",
        "                                                   test_size= 0.1, # especificamos el % de los datos para test el algoritmo\n",
        "                                                   random_state= 2025 # semilla\n",
        "                                                   )"
      ]
    },
    {
      "cell_type": "code",
      "execution_count": null,
      "metadata": {
        "id": "jFwgW4CGcJAq",
        "colab": {
          "base_uri": "https://localhost:8080/"
        },
        "outputId": "a76c3a5a-d1ce-4e57-fcfb-24471dca9583"
      },
      "outputs": [
        {
          "output_type": "execute_result",
          "data": {
            "text/plain": [
              "(15812, 3454)"
            ]
          },
          "metadata": {},
          "execution_count": 62
        }
      ],
      "source": [
        "#Se corrio con los datos correctos, al momento de realizar una regresion lineal es imposible, se utilizo Spyder, kaggle online, \n",
        "#jupyter lab y se toma la desicion de trabajar solo con el 20% de los datos. \n",
        "#from seaborn import load_dataset\n",
        "df.sample(frac=0.20).shape "
      ]
    },
    {
      "cell_type": "code",
      "execution_count": null,
      "metadata": {
        "id": "F192RKsrcJQz"
      },
      "outputs": [],
      "source": [
        "# INstanciamos la clase para el modelado \n",
        "ModelQuantity = LinearRegression()"
      ]
    },
    {
      "cell_type": "code",
      "execution_count": null,
      "metadata": {
        "id": "rvvuCzz5cJOM",
        "colab": {
          "base_uri": "https://localhost:8080/"
        },
        "outputId": "485db281-b536-46a8-bee0-fcd6ade16182"
      },
      "outputs": [
        {
          "output_type": "execute_result",
          "data": {
            "text/plain": [
              "LinearRegression()"
            ]
          },
          "metadata": {},
          "execution_count": 64
        }
      ],
      "source": [
        "# Siguiente paso : Ajustar el modelo \n",
        "ModelQuantity.fit(X_train, y_train)"
      ]
    },
    {
      "cell_type": "code",
      "execution_count": null,
      "metadata": {
        "id": "Lhk6nu69cJDp",
        "colab": {
          "base_uri": "https://localhost:8080/"
        },
        "outputId": "90aaafa6-134f-4ebd-baf3-8a275f11b34a"
      },
      "outputs": [
        {
          "output_type": "execute_result",
          "data": {
            "text/plain": [
              "-926445015.2872686"
            ]
          },
          "metadata": {},
          "execution_count": 65
        }
      ],
      "source": [
        "ModelQuantity.score(X_test, y_test)"
      ]
    },
    {
      "cell_type": "markdown",
      "source": [
        "**Conclusion**\n",
        "El dataset poseé informacion de transaciones y no se identifica una variable para poder realizar un analisis predictivo.\n",
        "Se aprecia mejor los datos por un analisis exploratrio por metodo grafico."
      ],
      "metadata": {
        "id": "U-dBEFsYEtmI"
      }
    }
  ],
  "metadata": {
    "colab": {
      "provenance": [],
      "collapsed_sections": [],
      "authorship_tag": "ABX9TyPKYKXzgph2GkTUdAf/Ks1p",
      "include_colab_link": true
    },
    "kernelspec": {
      "display_name": "Python 3",
      "name": "python3"
    },
    "language_info": {
      "name": "python"
    }
  },
  "nbformat": 4,
  "nbformat_minor": 0
}