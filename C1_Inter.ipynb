{
  "nbformat": 4,
  "nbformat_minor": 0,
  "metadata": {
    "colab": {
      "name": "C1 Inter.ipynb",
      "provenance": [],
      "authorship_tag": "ABX9TyP1KJkMXASTtZqOOhMegaT8",
      "include_colab_link": true
    },
    "kernelspec": {
      "name": "python3",
      "display_name": "Python 3"
    },
    "language_info": {
      "name": "python"
    }
  },
  "cells": [
    {
      "cell_type": "markdown",
      "metadata": {
        "id": "view-in-github",
        "colab_type": "text"
      },
      "source": [
        "<a href=\"https://colab.research.google.com/github/AdonyPerez/EjerciciosPythonModulo1/blob/main/C1_Inter.ipynb\" target=\"_parent\"><img src=\"https://colab.research.google.com/assets/colab-badge.svg\" alt=\"Open In Colab\"/></a>"
      ]
    },
    {
      "cell_type": "code",
      "execution_count": 11,
      "metadata": {
        "id": "mBQMHgOt8cpo"
      },
      "outputs": [],
      "source": [
        "# modulos y datos \n",
        "import numpy as np\n",
        "import pandas as pd \n",
        "import matplotlib.pyplot as plt\n",
        "import seaborn as sns"
      ]
    },
    {
      "cell_type": "code",
      "source": [
        "# Clase model_selection : funcion train_test_split\n",
        "from sklearn.model_selection import train_test_split\n",
        "# Clase linear_model : funcion LinearRegression\n",
        "from sklearn.linear_model import LinearRegression\n",
        "# Submodulo metrics : Varios indicadores de calidad \n",
        "from sklearn import metrics"
      ],
      "metadata": {
        "id": "zhWydfHl8h_3"
      },
      "execution_count": 12,
      "outputs": []
    },
    {
      "cell_type": "code",
      "source": [
        "# DataSet:\n",
        "datos = pd.read_csv(\"https://raw.githubusercontent.com/robintux/Datasets4StackOverFlowQuestions/master/Consumo_cerveza_SP.csv\")\n"
      ],
      "metadata": {
        "id": "X5JUoJyE8kIE"
      },
      "execution_count": 13,
      "outputs": []
    },
    {
      "cell_type": "code",
      "source": [
        "# %% Preprocesar los datos \n",
        "\n",
        "# Tipos da dato de cada columna \n",
        "datos.info()\n",
        "# Modificar la coma decimal de las columnas 1,2,3,4\n",
        "\n",
        "# Veamos los datos faltantes\n",
        "datos.isnull().sum()\n",
        "# Data                           576\n",
        "# Temperatura Media (C)          576\n",
        "# Temperatura Minima (C)         576\n",
        "# Temperatura Maxima (C)         576\n",
        "# Precipitacao (mm)              576\n",
        "# Final de Semana                576\n",
        "# Consumo de cerveja (litros)    576\n",
        "# dtype: int64\n",
        "\n",
        "# Resumen descriptivo\n",
        "datos.describe()\n",
        "\n",
        "# Nombres de las columnas \n",
        "datos.columns\n",
        "\n",
        "# Observamos que algunos nombres de columna tienen espacios en blanco \n",
        "# es por ello que vamos a cambiar esos nombres de columna \n",
        "datos.rename(columns = {'Temperatura Media (C)' : 'Temperatura_Media',\n",
        "                        'Temperatura Minima (C)': 'Temperatura_Minima',\n",
        "                        'Temperatura Maxima (C)' : 'Temperatura_Maxima',\n",
        "                        'Precipitacao (mm)' : 'Precipitacion',\n",
        "                        'Final de Semana' : 'Fin_de_Semana',\n",
        "                        'Consumo de cerveja (litros)' : \"Consumo_litros\"},\n",
        "             inplace= True)\n",
        "\n",
        "# Verificamos el cambio en Nombres de las columnas \n",
        "datos.columns\n",
        "\n",
        "# Observamos que las observaciones en las columnas con informacion\n",
        "# de las temperaturas y la precipitacion tenian una coma decimal, \n",
        "# debemos cambiar esa coma (,) por un punto(.)\n",
        "datos.Temperatura_Media = datos.Temperatura_Media.str.replace(\",\",\".\").astype(float)\n",
        "datos.Temperatura_Maxima = datos.Temperatura_Maxima.str.replace(\",\",\".\").astype(float)\n",
        "datos.Temperatura_Minima= datos.Temperatura_Minima.str.replace(\",\",\".\").astype(float)\n",
        "datos.Precipitacion = datos.Precipitacion.str.replace(\",\",\".\").astype(float)\n",
        "\n",
        "# Eliminemos los valores faltantes\n",
        "datos = datos.dropna()\n",
        "datos.isnull().sum()\n",
        "\n",
        "# Transformar la columna Data a datetime\n",
        "datos.Data = pd.to_datetime(datos.Data)\n"
      ],
      "metadata": {
        "id": "sfcwiXjL8nXe"
      },
      "execution_count": null,
      "outputs": []
    },
    {
      "cell_type": "code",
      "source": [
        "# Separamos nuestro dataset : train/test\n",
        "help(train_test_split)\n"
      ],
      "metadata": {
        "id": "0CqZZV8n9AfM"
      },
      "execution_count": null,
      "outputs": []
    },
    {
      "cell_type": "code",
      "source": [
        "# Separemos las variables independientes y la variable dependiente\n",
        "y = datos.Consumo_litros\n",
        "x = datos[[\"Temperatura_Maxima\", \"Precipitacion\", \"Fin_de_Semana\"]]"
      ],
      "metadata": {
        "id": "p6RVtXER9fk6"
      },
      "execution_count": 18,
      "outputs": []
    },
    {
      "cell_type": "code",
      "source": [
        "# Particionamos \n",
        "X_train , X_test, y_train, y_test = train_test_split(x, # Dataframe con las variables independientes\n",
        "                                                   y, # Un dato de tipo Series : variable dependiente\n",
        "                                                   test_size= 0.2, # especificamos el % de los datos para test el algoritmo\n",
        "                                                   random_state= 2025 # semilla\n",
        "                                                   )"
      ],
      "metadata": {
        "id": "-_LaT9rQ-FOv"
      },
      "execution_count": 23,
      "outputs": []
    },
    {
      "cell_type": "code",
      "source": [
        "# INstanciamos la clase para el modelado \n",
        "model1 = LinearRegression()\n",
        "help(LinearRegression)\n",
        "type(model1)\n",
        "dir(model1)\n",
        "# 'copy_X',\n",
        "#  'fit',\n",
        "#  'fit_intercept',\n",
        "#  'get_params',\n",
        "#  'n_jobs',\n",
        "#  'normalize',\n",
        "#  'positive',\n",
        "#  'predict',\n",
        "#  'score',\n",
        "#  'set_params'"
      ],
      "metadata": {
        "id": "EOqI03QT_fO2"
      },
      "execution_count": null,
      "outputs": []
    },
    {
      "cell_type": "code",
      "source": [
        "# Siguiente paso : Ajustar el modelo \n",
        "model1.fit(X_train, y_train)"
      ],
      "metadata": {
        "id": "h_CScYFN_wMD"
      },
      "execution_count": null,
      "outputs": []
    },
    {
      "cell_type": "code",
      "source": [
        "# R2\n",
        "R2 = model1.score(X_train, y_train)"
      ],
      "metadata": {
        "id": "MJ1FA98xAP5_"
      },
      "execution_count": 39,
      "outputs": []
    },
    {
      "cell_type": "code",
      "source": [
        "# Parametros del modelo : Coeficientes que acompañan a las variables \n",
        "# independientes \n",
        "model1.coef_\n",
        "# \"Temperatura_Maxima\", \"Precipitacion\", \"Fin_de_Semana\"]] = Valores encontrados"
      ],
      "metadata": {
        "colab": {
          "base_uri": "https://localhost:8080/"
        },
        "id": "CZPv1WboAnr6",
        "outputId": "83f42e10-bd66-4a1c-ff51-aaeffcdabb00"
      },
      "execution_count": 49,
      "outputs": [
        {
          "output_type": "execute_result",
          "data": {
            "text/plain": [
              "array([ 0.67504126, -0.061734  ,  5.22245755])"
            ]
          },
          "metadata": {},
          "execution_count": 49
        }
      ]
    },
    {
      "cell_type": "code",
      "source": [
        "model1.intercept_"
      ],
      "metadata": {
        "colab": {
          "base_uri": "https://localhost:8080/"
        },
        "id": "-N70tFgEBhfb",
        "outputId": "7b91bf5f-9533-43ec-9c85-e4ec0aeb4334"
      },
      "execution_count": 50,
      "outputs": [
        {
          "output_type": "execute_result",
          "data": {
            "text/plain": [
              "6.330567775178366"
            ]
          },
          "metadata": {},
          "execution_count": 50
        }
      ]
    },
    {
      "cell_type": "code",
      "source": [
        "# y = 0.67 * Temperatura_Maxima - 0.06 * Precipitacion + 5.22 * Fin_de_Semana + 6.33"
      ],
      "metadata": {
        "id": "4nGQOnwABPe-"
      },
      "execution_count": null,
      "outputs": []
    },
    {
      "cell_type": "code",
      "source": [
        "# COnstruccion de predicciones \n",
        "y_model = model1.predict(X_test)\n",
        "print (y_model)"
      ],
      "metadata": {
        "id": "u0HWxYU7BYKP"
      },
      "execution_count": null,
      "outputs": []
    },
    {
      "cell_type": "code",
      "source": [
        "# Errores/Residuos \n",
        "errores = y_model - y_test"
      ],
      "metadata": {
        "id": "PIBTBXRSCg_A"
      },
      "execution_count": 58,
      "outputs": []
    }
  ]
}